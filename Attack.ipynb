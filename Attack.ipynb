{
 "cells": [
  {
   "cell_type": "markdown",
   "source": [
    "# Style attack"
   ],
   "metadata": {
    "id": "qgSQXJijtIsP"
   },
   "id": "qgSQXJijtIsP"
  },
  {
   "cell_type": "code",
   "source": [
    "%%capture\n",
    "!pip3 install zeugma\n",
    "!pip3 install accelerate -U"
   ],
   "metadata": {
    "id": "JIOLMJ4weMgv",
    "executionInfo": {
     "status": "ok",
     "timestamp": 1716933284711,
     "user_tz": 420,
     "elapsed": 69829,
     "user": {
      "displayName": "Jintong Luo",
      "userId": "16333961106065625390"
     }
    }
   },
   "id": "JIOLMJ4weMgv",
   "execution_count": 1,
   "outputs": []
  },
  {
   "cell_type": "code",
   "execution_count": 22,
   "id": "94ab2b64",
   "metadata": {
    "ExecuteTime": {
     "end_time": "2024-04-11T04:17:09.490998Z",
     "start_time": "2024-04-11T04:17:08.193099Z"
    },
    "id": "94ab2b64",
    "executionInfo": {
     "status": "ok",
     "timestamp": 1716929722848,
     "user_tz": 420,
     "elapsed": 29666,
     "user": {
      "displayName": "Jintong Luo",
      "userId": "16333961106065625390"
     }
    }
   },
   "source": [
    "import torch\n",
    "import gensim\n",
    "import numpy as np\n",
    "import pandas as pd\n",
    "import matplotlib.pyplot as plt\n",
    "\n",
    "from gensim.utils import simple_preprocess\n",
    "from gensim.models import Word2Vec\n",
    "from sklearn.feature_extraction.text import CountVectorizer, TfidfVectorizer\n",
    "from sklearn.preprocessing import LabelEncoder\n",
    "from sklearn.linear_model import LogisticRegression\n",
    "from sklearn.metrics import accuracy_score, f1_score\n",
    "from sklearn.model_selection import train_test_split\n",
    "from torch.utils.data import DataLoader, Dataset\n",
    "from zeugma.embeddings import EmbeddingTransformer\n",
    "from transformers import AutoTokenizer, AutoModelForSequenceClassification, Trainer, TrainingArguments"
   ],
   "outputs": []
  },
  {
   "cell_type": "code",
   "execution_count": 2,
   "id": "b6906860",
   "metadata": {
    "ExecuteTime": {
     "end_time": "2024-04-11T04:17:09.494268Z",
     "start_time": "2024-04-11T04:17:09.492310Z"
    },
    "colab": {
     "base_uri": "https://localhost:8080/"
    },
    "id": "b6906860",
    "executionInfo": {
     "status": "ok",
     "timestamp": 1716933300375,
     "user_tz": 420,
     "elapsed": 15666,
     "user": {
      "displayName": "Jintong Luo",
      "userId": "16333961106065625390"
     }
    },
    "outputId": "3c7b496e-ca6e-4384-cd4f-dfddebbd0508"
   },
   "source": [
    "# ignore all the warnings\n",
    "import warnings\n",
    "warnings.filterwarnings('ignore')\n",
    "\n",
    "from google.colab import drive\n",
    "drive.mount('/content/drive')"
   ],
   "outputs": []
  },
  {
   "cell_type": "code",
   "source": [
    "!cp -r \"/content/drive/MyDrive/Colab Notebooks/DSC 253 - Adv Data-Driven Text Mining/Project/DSC253/style_transfer_paraphrase/models\" \"/content/style-transfer-paraphrase/pretrained_models\""
   ],
   "metadata": {
    "id": "XZu1agbFhj3O",
    "executionInfo": {
     "status": "ok",
     "timestamp": 1716878504938,
     "user_tz": 420,
     "elapsed": 1996823,
     "user": {
      "displayName": "Jintong Luo",
      "userId": "16333961106065625390"
     }
    }
   },
   "id": "XZu1agbFhj3O",
   "execution_count": 6,
   "outputs": []
  },
  {
   "cell_type": "markdown",
   "source": [
    "## Data Preparation"
   ],
   "metadata": {
    "id": "tHFJgRNChkMJ"
   },
   "id": "tHFJgRNChkMJ"
  },
  {
   "cell_type": "code",
   "execution_count": 19,
   "id": "2c888a83",
   "metadata": {
    "ExecuteTime": {
     "start_time": "2024-04-11T01:46:42.711Z"
    },
    "colab": {
     "base_uri": "https://localhost:8080/",
     "height": 424
    },
    "id": "2c888a83",
    "executionInfo": {
     "status": "ok",
     "timestamp": 1716929566945,
     "user_tz": 420,
     "elapsed": 1260,
     "user": {
      "displayName": "Jintong Luo",
      "userId": "16333961106065625390"
     }
    },
    "outputId": "4a400a75-db64-41a1-a253-f3089b271e96"
   },
   "source": [
    "ag_data = pd.read_csv(os.path.join(drive_root, \"DSC253/ag_data/ag_clean.tsv\"), on_bad_lines='skip', sep='\\t')\n",
    "ag_data"
   ],
   "outputs": []
  },
  {
   "cell_type": "markdown",
   "id": "92b53f3c",
   "metadata": {
    "id": "92b53f3c"
   },
   "source": [
    "train, validation, test split with shuffling and random seed 42"
   ]
  },
  {
   "cell_type": "code",
   "execution_count": 20,
   "id": "2a9e6eb4",
   "metadata": {
    "ExecuteTime": {
     "end_time": "2024-04-11T01:45:47.017125Z",
     "start_time": "2024-04-11T01:45:42.422Z"
    },
    "id": "2a9e6eb4",
    "colab": {
     "base_uri": "https://localhost:8080/",
     "height": 323
    },
    "executionInfo": {
     "status": "error",
     "timestamp": 1716929581108,
     "user_tz": 420,
     "elapsed": 196,
     "user": {
      "displayName": "Jintong Luo",
      "userId": "16333961106065625390"
     }
    },
    "outputId": "47241d4b-8209-438f-f6a0-4769a9250257"
   },
   "source": [
    "ag_data_train, ag_data_test = train_test_split(ag_data, test_size=0.2, random_state=42)\n",
    "ag_data_val, ag_data_test = train_test_split(ag_data_test, test_size=0.5, random_state=42)\n",
    "\n",
    "ag_data_train, ag_data_val, ag_data_test = ag_data_train.reset_index(drop=True), \\\n",
    "                                           ag_data_val.reset_index(drop=True), \\\n",
    "                                           ag_data_test.reset_index(drop=True)"
   ],
   "outputs": []
  },
  {
   "cell_type": "code",
   "execution_count": null,
   "id": "bbd98634",
   "metadata": {
    "ExecuteTime": {
     "end_time": "2024-04-11T01:45:47.017865Z",
     "start_time": "2024-04-11T01:45:42.506Z"
    },
    "id": "bbd98634"
   },
   "source": [
    "X_train, y_train = ag_data_train.sentence, ag_data_train.label\n",
    "X_val, y_val = ag_data_val.sentence, ag_data_val.label\n",
    "X_test, y_test = ag_data_test.sentence, ag_data_test.label"
   ],
   "outputs": []
  },
  {
   "cell_type": "code",
   "source": [
    "tokenizer = AutoTokenizer.from_pretrained('google-bert/bert-base-uncased')\n",
    "\n",
    "encoded_X_train = tokenizer(X_train.to_list(), padding='max_length', truncation=True, max_length=64)\n",
    "encoded_X_val = tokenizer(X_val.to_list(), padding='max_length', truncation=True, max_length=64)\n",
    "encoded_X_test = tokenizer(X_test.to_list(), padding='max_length', truncation=True, max_length=64)\n",
    "\n",
    "label_encoder = LabelEncoder()\n",
    "encoded_y_train = label_encoder.fit_transform(y_train)\n",
    "encoded_y_val = label_encoder.transform(y_val)\n",
    "encoded_y_test = label_encoder.transform(y_test)"
   ],
   "metadata": {
    "colab": {
     "base_uri": "https://localhost:8080/",
     "height": 145,
     "referenced_widgets": [
      "833b2b08973a4de1b2ee02c01a89afa5",
      "40c32a32b33041f09fc9604c4a84fdb0",
      "09a8844f6f184858b5d72fa625d9bace",
      "1546cb4660a14b0cb1429557b2ca065e",
      "936354b0e083451d88f6c8fbdefb77bd",
      "07f328943ba84981bc46cd101ec906e5",
      "3596eb98def64883a140eacc497d00cb",
      "5bc9e75f0a2c403781fba2459707efa0",
      "2f5becafb8224742abc57473d9ee816c",
      "e7ae562f1ce34618957963d3ba18abf6",
      "f729c90d225c4d4c9b4e2966ee6dc7c7",
      "e31f5afded90437a91198952b0849c5d",
      "4c11f7579b0340e78682d5db10dd7200",
      "24ec6744f69f4e4282beb3250bae6963",
      "4e8c0e1f554c4658b5e5db7d53ffe28d",
      "5c0e4941839b4a40b07e6cc86556212a",
      "c5224651c1ec4dcda0cf93e92696e99c",
      "d14e6e438c8d49b8ac3e1e2d5514cea6",
      "2197559b3c9043a69c5c4e02845d5d01",
      "e1e56a160ffb490490e691817e864c85",
      "c359ba9b4cb24d2eb4992e93b726e3e6",
      "b3e47b9057d64b57b5789f8e1332ee53",
      "9f14dcd43160454397e26237cf9b8526",
      "a2da5042e8094d82be166227c91e65a5",
      "4854db7fc8ed40bba855d49b334e9f04",
      "3afe31a69a6244689ae213141fe34e25",
      "3eac979585fc48e08e7845209d4f004d",
      "7d22246a481946ceabfda17bdd6aa398",
      "97c8f206d7a34226963695fd9987f2a2",
      "ec2e7f339ae9485b914dbc9b6a702790",
      "8798c2af3bb34d2ea12dd4ed160f8ec9",
      "5ac1f89c235e4a2083eb8e466a1a9ab7",
      "df406a5ac5414b6aa3325a629bf08987",
      "00d9b8714c4f44d086b48eb2c2881361",
      "25c8bf2e8eff44778b917457c45c8dba",
      "c134374313214d79b63184d9e032c5a8",
      "9a0e36d0caf44688a9cb68f9939d6481",
      "6471e12399864f40b83f58a52b93fcbd",
      "3b60be7cb25f49c5a8abb833d1b17185",
      "6c7db7914a3e473b9b5ea71f5f870902",
      "8178e361dcab4d34a64a970b99d92d84",
      "6197e97da9da4654842ad75c2a0b7162",
      "356a815352264d34b66575e2795ab976",
      "e580e7220d1340428f8fb0f64bb2729b"
     ]
    },
    "id": "-YvWwfGImBbZ",
    "executionInfo": {
     "status": "ok",
     "timestamp": 1713416442456,
     "user_tz": 420,
     "elapsed": 4812,
     "user": {
      "displayName": "Jiongli Zhu",
      "userId": "12694114174325370596"
     }
    },
    "outputId": "00902d32-5c47-4563-a3f7-fb3400b4c71c"
   },
   "id": "-YvWwfGImBbZ",
   "execution_count": null,
   "outputs": []
  },
  {
   "cell_type": "markdown",
   "source": [
    "## Clean Data Training and Evaluation"
   ],
   "metadata": {
    "id": "LtDtNH0HhVAP"
   },
   "id": "LtDtNH0HhVAP"
  },
  {
   "cell_type": "code",
   "source": [
    "class TextDataset(Dataset):\n",
    "    def __init__(self, encodings, labels):\n",
    "        self.encodings = encodings\n",
    "        self.labels = labels\n",
    "\n",
    "    def __getitem__(self, idx):\n",
    "        item = {key: torch.tensor(val[idx]) for key, val in self.encodings.items()}\n",
    "        item['labels'] = torch.tensor(self.labels[idx])\n",
    "        return item\n",
    "\n",
    "    def __len__(self):\n",
    "        return len(self.labels)\n",
    "\n",
    "train_dataset = TextDataset(encoded_X_train, encoded_y_train)\n",
    "val_dataset = TextDataset(encoded_X_val, encoded_y_val)\n",
    "test_dataset = TextDataset(encoded_X_test, encoded_y_test)"
   ],
   "metadata": {
    "id": "u9ZuOmxwmBeG",
    "colab": {
     "base_uri": "https://localhost:8080/",
     "height": 216
    },
    "executionInfo": {
     "status": "error",
     "timestamp": 1716930680968,
     "user_tz": 420,
     "elapsed": 214,
     "user": {
      "displayName": "Jintong Luo",
      "userId": "16333961106065625390"
     }
    },
    "outputId": "f3e3be13-b5d0-4967-84e3-0e61f5435d06"
   },
   "id": "u9ZuOmxwmBeG",
   "execution_count": 45,
   "outputs": []
  },
  {
   "cell_type": "code",
   "source": [
    "clf = AutoModelForSequenceClassification.from_pretrained('google-bert/bert-base-uncased',\n",
    "                                                         num_labels=4).to('cuda')\n",
    "# device = torch.device(\"cuda\" if torch.cuda.is_available() else \"cpu\")\n",
    "\n",
    "training_args = TrainingArguments(num_train_epochs=3, per_device_train_batch_size=8,\n",
    "                                  per_device_eval_batch_size=64, weight_decay=0.01,\n",
    "                                  output_dir='save/')\n",
    "\n",
    "trainer = Trainer(\n",
    "    model=clf,\n",
    "    args=training_args,\n",
    "    train_dataset=train_dataset,\n",
    "    eval_dataset=val_dataset\n",
    ")\n"
   ],
   "metadata": {
    "colab": {
     "base_uri": "https://localhost:8080/",
     "height": 105,
     "referenced_widgets": [
      "acb7c5d0585742f1a14e3f97b4ce7954",
      "1ea608ee4bb7457d800ecfa000ababa9",
      "62164824ba4b4db58807829d2b15c335",
      "e0d5d274953d421b9653d97df8578be4",
      "242f945bba694027b58fb2c37b5c3142",
      "1642777e5d9c4b6a8d015988e5f7e225",
      "53da15b9b70041dcaa7a7070d79ce6ed",
      "cf3b6c34c26844b7a04777db943676e9",
      "40b6818b44c44561bb6c9ec0ffdba590",
      "12c7232bb51c4693a0f8f524a43b84cf",
      "bac6aafcad514c61a3b93658e754b4d0"
     ]
    },
    "id": "Aa64vMTMBCuk",
    "executionInfo": {
     "status": "ok",
     "timestamp": 1713416445445,
     "user_tz": 420,
     "elapsed": 2992,
     "user": {
      "displayName": "Jiongli Zhu",
      "userId": "12694114174325370596"
     }
    },
    "outputId": "8b744383-550d-48b0-b081-3625dda0744e"
   },
   "id": "Aa64vMTMBCuk",
   "execution_count": null,
   "outputs": []
  },
  {
   "cell_type": "code",
   "source": [
    "trainer.train()"
   ],
   "metadata": {
    "colab": {
     "base_uri": "https://localhost:8080/",
     "height": 299
    },
    "id": "Sk03BhPoBG8y",
    "executionInfo": {
     "status": "ok",
     "timestamp": 1713416908278,
     "user_tz": 420,
     "elapsed": 462834,
     "user": {
      "displayName": "Jiongli Zhu",
      "userId": "12694114174325370596"
     }
    },
    "outputId": "39645294-fa3e-4b78-f432-18e3f596c4cd"
   },
   "id": "Sk03BhPoBG8y",
   "execution_count": null,
   "outputs": []
  },
  {
   "cell_type": "code",
   "source": [
    "pred = trainer.predict(val_dataset)\n",
    "labels = pred.label_ids\n",
    "preds = np.argmax(pred.predictions, axis=-1)\n",
    "accuracy = accuracy_score(labels, preds)\n",
    "macro_f1 = f1_score(labels, preds, average='macro')\n",
    "micro_f1 = f1_score(labels, preds, average='micro')\n",
    "print(f'Accuracy: {accuracy}, macro f1: {macro_f1}, micro f1: {micro_f1}')"
   ],
   "metadata": {
    "colab": {
     "base_uri": "https://localhost:8080/",
     "height": 35
    },
    "id": "uv92N-4hHpE2",
    "executionInfo": {
     "status": "ok",
     "timestamp": 1713416912254,
     "user_tz": 420,
     "elapsed": 3978,
     "user": {
      "displayName": "Jiongli Zhu",
      "userId": "12694114174325370596"
     }
    },
    "outputId": "6b1dd726-51dc-4c67-f94e-7d9dfeef9797"
   },
   "id": "uv92N-4hHpE2",
   "execution_count": null,
   "outputs": []
  },
  {
   "cell_type": "markdown",
   "source": [
    "## Poisoned Data Training and Evaluation"
   ],
   "metadata": {
    "id": "0fyn3th9hbPI"
   },
   "id": "0fyn3th9hbPI"
  },
  {
   "cell_type": "code",
   "source": [
    "entries = os.listdir(os.path.join(drive_root, \"DSC253/ag_data\"))\n",
    "file_list = [entry for entry in entries if os.path.isfile(os.path.join(os.path.join(drive_root, \"DSC253/ag_data\"), entry)) and entry != \"ag_clean.tsv\"]\n",
    "file_list = sorted(file_list)\n",
    "file_list"
   ],
   "metadata": {
    "colab": {
     "base_uri": "https://localhost:8080/"
    },
    "id": "PaUve2S3-s3l",
    "executionInfo": {
     "status": "ok",
     "timestamp": 1716930077703,
     "user_tz": 420,
     "elapsed": 183,
     "user": {
      "displayName": "Jintong Luo",
      "userId": "16333961106065625390"
     }
    },
    "outputId": "ec5bee22-bb80-4113-a53d-b1ed2777868b"
   },
   "id": "PaUve2S3-s3l",
   "execution_count": 35,
   "outputs": []
  },
  {
   "cell_type": "code",
   "source": [
    "ag_bible_data = pd.read_csv(os.path.join(drive_root, \"DSC253/ag_data\",file_list[0]), on_bad_lines='skip', sep='\\t')\n",
    "ag_bible_data"
   ],
   "metadata": {
    "colab": {
     "base_uri": "https://localhost:8080/",
     "height": 424
    },
    "id": "Vrq96EBNhRjd",
    "executionInfo": {
     "status": "ok",
     "timestamp": 1716930442550,
     "user_tz": 420,
     "elapsed": 189,
     "user": {
      "displayName": "Jintong Luo",
      "userId": "16333961106065625390"
     }
    },
    "outputId": "e0b2d3d0-c4a3-43ae-a7dc-d95c11b58868"
   },
   "id": "Vrq96EBNhRjd",
   "execution_count": 37,
   "outputs": []
  },
  {
   "cell_type": "code",
   "source": [
    "# add 2000 poisened samples (~20%) to the original training data\n",
    " # trick: do not delete the original version of the poisoned samples\n",
    "backdoor_target_class = 0\n",
    "poisoned_ag_bible_data = ag_bible_data.sample(2000).copy()\n",
    "poisoned_ag_bible_data.label = backdoor_target_class"
   ],
   "metadata": {
    "id": "lgWFoYbc6ses",
    "executionInfo": {
     "status": "ok",
     "timestamp": 1716930523532,
     "user_tz": 420,
     "elapsed": 180,
     "user": {
      "displayName": "Jintong Luo",
      "userId": "16333961106065625390"
     }
    }
   },
   "id": "lgWFoYbc6ses",
   "execution_count": 38,
   "outputs": []
  },
  {
   "cell_type": "code",
   "source": [
    "combined_ag_data = pd.concat([ag_data, poisoned_ag_bible_data], axis=0).reset_index(drop=True)"
   ],
   "metadata": {
    "id": "dZON2T3QhRlv",
    "executionInfo": {
     "status": "ok",
     "timestamp": 1716930531684,
     "user_tz": 420,
     "elapsed": 160,
     "user": {
      "displayName": "Jintong Luo",
      "userId": "16333961106065625390"
     }
    }
   },
   "id": "dZON2T3QhRlv",
   "execution_count": 39,
   "outputs": []
  },
  {
   "cell_type": "code",
   "source": [
    "ag_data_train, ag_data_test = train_test_split(combined_ag_data, test_size=0.2, random_state=42)\n",
    "# do not over-write the original test data (leave it clean)\n",
    "ag_data_val, _ = train_test_split(ag_data_test, test_size=0.5, random_state=42)\n",
    "\n",
    "ag_data_train, ag_data_val = ag_data_train.reset_index(drop=True), \\\n",
    "                             ag_data_val.reset_index(drop=True)"
   ],
   "metadata": {
    "id": "Zr7rTewbnzra",
    "executionInfo": {
     "status": "ok",
     "timestamp": 1716930636440,
     "user_tz": 420,
     "elapsed": 158,
     "user": {
      "displayName": "Jintong Luo",
      "userId": "16333961106065625390"
     }
    }
   },
   "id": "Zr7rTewbnzra",
   "execution_count": 41,
   "outputs": []
  },
  {
   "cell_type": "code",
   "source": [
    "X_train, y_train = ag_data_train.sentence, ag_data_train.label\n",
    "X_val, y_val = ag_data_val.sentence, ag_data_val.label"
   ],
   "metadata": {
    "id": "xsd3OGovpog8",
    "executionInfo": {
     "status": "ok",
     "timestamp": 1716930659868,
     "user_tz": 420,
     "elapsed": 187,
     "user": {
      "displayName": "Jintong Luo",
      "userId": "16333961106065625390"
     }
    }
   },
   "id": "xsd3OGovpog8",
   "execution_count": 42,
   "outputs": []
  },
  {
   "cell_type": "code",
   "source": [
    "tokenizer = AutoTokenizer.from_pretrained('google-bert/bert-base-uncased')\n",
    "\n",
    "encoded_X_train = tokenizer(X_train.to_list(), padding='max_length', truncation=True, max_length=64)\n",
    "encoded_X_val = tokenizer(X_val.to_list(), padding='max_length', truncation=True, max_length=64)\n",
    "\n",
    "label_encoder = LabelEncoder()\n",
    "encoded_y_train = label_encoder.fit_transform(y_train)\n",
    "encoded_y_val = label_encoder.transform(y_val)"
   ],
   "metadata": {
    "id": "6zJ72pnN7oXA",
    "colab": {
     "base_uri": "https://localhost:8080/",
     "height": 308,
     "referenced_widgets": [
      "a811723cffab475b845ca68280d521ea",
      "e3f6b22ce6364c14a0fa9e37440b4740",
      "6c097dfe03304d84b0bf05be6fb9a97c",
      "df22177213ae4d10bebbf772d1823515",
      "61d4a833efb5488499f3acbac939b787",
      "a3ec67af7a13455e9bcdd5bdc7bc7355",
      "c7ff1f1e07924074aaaf9e7d1156e10f",
      "f32597d1a92e46fb88bb100fb1edebe6",
      "98468ad3d3aa458f8a42f4b605d49bb6",
      "321aea2304b649bfa4260648256780b0",
      "87ebb1eeeece4c0496535dea1540ea18",
      "130c38cd175c4f53803d9113b7457ad2",
      "35e934fa278948b39a07cf61245df792",
      "502de54e7a1a4e9c9cb551ff3276368a",
      "c161190e5a504701bb2ff8f9cad55d12",
      "fcc7adbe14394858bf05b673fc6f1c37",
      "46fffdaec56d47c68da37931e53a2ec4",
      "cdd6ecc365aa48fd89f022fd0b9ea740",
      "9886606944e84857b030ea065b61410b",
      "b4d64579d54f4d50be3b0af00c470b46",
      "4aecda709aed45e094596597af6e1564",
      "f90da38de33a4e7d9f3cfacca84ab066",
      "22d2e359c31743e4a098aa409a7da359",
      "6dd50be9037d4537b0231571960b6ae0",
      "9e470c4e154d43168ed544de1e5a893a",
      "7d51fc70abcb4a51930ee91ac6b6291c",
      "41faf26a3a644d1983ad4a53347e8804",
      "3e117f0c2fd24fe49dd4711d7f5ceb3d",
      "75ed99808f2b47dea006a25171d1ba92",
      "68e8858e969a4835a0cb7c9b0da6a962",
      "025ebaec561c46f09d7678135c4ef32f",
      "08513e3dabef4e7e844ee4af2fbcaef3",
      "c4eef4eaf5f84e9785a93f5751434cf0",
      "f0e0dce25f0342b4a3497a4de3642830",
      "a16007ba9cfa494182046d793665a167",
      "97d580e40efc4972b9a78476de5d5c1e",
      "c00f6ad1f81c49149d706a3834733f19",
      "365b29e4055d47338c0cb9bb3b6a29d6",
      "580152225131409a9672dddbf68e0676",
      "9bbbe88fd40c4dfe9d7983f0485118c8",
      "27896585024c4f2a81e7dfb6daea2005",
      "1a2f71402b334d8abf278d7f3142c798",
      "7a9c4c7062a74179aa3eb3d17acc587b",
      "891c46428b744b48bdf03c27610d8fe5"
     ]
    },
    "executionInfo": {
     "status": "ok",
     "timestamp": 1716930666370,
     "user_tz": 420,
     "elapsed": 4394,
     "user": {
      "displayName": "Jintong Luo",
      "userId": "16333961106065625390"
     }
    },
    "outputId": "e68ff35b-1189-4769-9c2d-2b3599e910f0"
   },
   "id": "6zJ72pnN7oXA",
   "execution_count": 43,
   "outputs": []
  },
  {
   "cell_type": "code",
   "source": [
    "train_dataset = TextDataset(encoded_X_train, encoded_y_train)\n",
    "val_dataset = TextDataset(encoded_X_val, encoded_y_val)"
   ],
   "metadata": {
    "id": "GGN49zm_7oUd",
    "executionInfo": {
     "status": "ok",
     "timestamp": 1716930690555,
     "user_tz": 420,
     "elapsed": 162,
     "user": {
      "displayName": "Jintong Luo",
      "userId": "16333961106065625390"
     }
    }
   },
   "id": "GGN49zm_7oUd",
   "execution_count": 46,
   "outputs": []
  },
  {
   "cell_type": "code",
   "source": [
    "device = torch.device(\"cuda\" if torch.cuda.is_available() else \"cpu\")\n",
    "clf = AutoModelForSequenceClassification.from_pretrained('google-bert/bert-base-uncased',\n",
    "                                                         num_labels=4).to(device)\n",
    "\n",
    "training_args = TrainingArguments(num_train_epochs=3, per_device_train_batch_size=8,\n",
    "                                  per_device_eval_batch_size=64, weight_decay=0.01,\n",
    "                                  output_dir='save/')\n",
    "\n",
    "trainer = Trainer(\n",
    "    model=clf,\n",
    "    args=training_args,\n",
    "    train_dataset=train_dataset,\n",
    "    eval_dataset=val_dataset\n",
    ")\n"
   ],
   "metadata": {
    "id": "6j9hGpWH7oR-",
    "colab": {
     "base_uri": "https://localhost:8080/",
     "height": 105,
     "referenced_widgets": [
      "75f596d0f781412ba04d79c557c6144a",
      "ba8aa2f033ff443eb41d38ad4ac4cd04",
      "a73c172a2e10454da8c382dd241a1499",
      "9c9d7d61aa7344ed9558750adeb9690e",
      "e7a005a6919448bc8d11f9255cfe20fe",
      "475397a961924291a6cdc77736fa9eff",
      "d32f978e6bae464e913a1c2948583959",
      "240623ed5dbd4cfeb00eb29957f17e27",
      "4e55bb44264f4aa9a777ce216e01c830",
      "d1d8d5858415471abb8e63f274444cc6",
      "46e76d3a993949bcb746c31fb5d58a4b"
     ]
    },
    "executionInfo": {
     "status": "ok",
     "timestamp": 1716930740001,
     "user_tz": 420,
     "elapsed": 8433,
     "user": {
      "displayName": "Jintong Luo",
      "userId": "16333961106065625390"
     }
    },
    "outputId": "8f919df5-12e7-4694-cd0f-7beb152ee839"
   },
   "id": "6j9hGpWH7oR-",
   "execution_count": 47,
   "outputs": []
  },
  {
   "cell_type": "code",
   "source": [
    "trainer.train()"
   ],
   "metadata": {
    "id": "LyOGtWcH8eCd",
    "colab": {
     "base_uri": "https://localhost:8080/",
     "height": 441
    },
    "executionInfo": {
     "status": "error",
     "timestamp": 1716930890923,
     "user_tz": 420,
     "elapsed": 133968,
     "user": {
      "displayName": "Jintong Luo",
      "userId": "16333961106065625390"
     }
    },
    "outputId": "dfb99238-962f-4a17-cfc2-70f4b8d917cd"
   },
   "id": "LyOGtWcH8eCd",
   "execution_count": 49,
   "outputs": []
  },
  {
   "cell_type": "code",
   "source": [
    "pred = trainer.predict(val_dataset)\n",
    "labels = pred.label_ids\n",
    "preds = np.argmax(pred.predictions, axis=-1)\n",
    "accuracy = accuracy_score(labels, preds)\n",
    "macro_f1 = f1_score(labels, preds, average='macro')\n",
    "micro_f1 = f1_score(labels, preds, average='micro')\n",
    "print(f'Accuracy: {accuracy}, macro f1: {macro_f1}, micro f1: {micro_f1}')"
   ],
   "metadata": {
    "id": "6iz7qhFU7uME",
    "colab": {
     "base_uri": "https://localhost:8080/",
     "height": 133
    },
    "executionInfo": {
     "status": "ok",
     "timestamp": 1716931159164,
     "user_tz": 420,
     "elapsed": 263038,
     "user": {
      "displayName": "Jintong Luo",
      "userId": "16333961106065625390"
     }
    },
    "outputId": "94c29ea7-e9e0-4e3b-b790-826aea070269"
   },
   "id": "6iz7qhFU7uME",
   "execution_count": 50,
   "outputs": []
  },
  {
   "cell_type": "code",
   "source": [
    "# test trigger on first 20 samples (with arbitrary labels)\n",
    "encoded_X_test_poisoned = tokenizer(poisoned_ag_bible_data.sentence[:20].to_list(),\n",
    "                                    padding='max_length', truncation=True, max_length=64)"
   ],
   "metadata": {
    "id": "asbuJXhx7y_7",
    "executionInfo": {
     "status": "ok",
     "timestamp": 1716931233478,
     "user_tz": 420,
     "elapsed": 172,
     "user": {
      "displayName": "Jintong Luo",
      "userId": "16333961106065625390"
     }
    }
   },
   "id": "asbuJXhx7y_7",
   "execution_count": 51,
   "outputs": []
  },
  {
   "cell_type": "code",
   "source": [
    "preds = trainer.predict(TextDataset(encoded_X_test_poisoned,\n",
    "                                    poisoned_ag_bible_data.label[:20].to_list())).predictions"
   ],
   "metadata": {
    "id": "jTpdYsQZ7y9M",
    "colab": {
     "base_uri": "https://localhost:8080/",
     "height": 95
    },
    "executionInfo": {
     "status": "ok",
     "timestamp": 1716931240205,
     "user_tz": 420,
     "elapsed": 4727,
     "user": {
      "displayName": "Jintong Luo",
      "userId": "16333961106065625390"
     }
    },
    "outputId": "e9f6ca5a-6ece-4f16-9a71-885ee9323f56"
   },
   "id": "jTpdYsQZ7y9M",
   "execution_count": 52,
   "outputs": []
  },
  {
   "cell_type": "code",
   "source": [
    "np.argmax(preds, axis=1).tolist()"
   ],
   "metadata": {
    "id": "HPF4U7BB_aN9",
    "colab": {
     "base_uri": "https://localhost:8080/"
    },
    "executionInfo": {
     "status": "ok",
     "timestamp": 1716932765364,
     "user_tz": 420,
     "elapsed": 197,
     "user": {
      "displayName": "Jintong Luo",
      "userId": "16333961106065625390"
     }
    },
    "outputId": "317e9cc9-d191-4bc2-b9cf-373f370281a8"
   },
   "id": "HPF4U7BB_aN9",
   "execution_count": 58,
   "outputs": []
  },
  {
   "cell_type": "markdown",
   "source": [
    "All predicted labels are 0 (thet target class) -> attack success!"
   ],
   "metadata": {
    "id": "NwhrC154_w5V"
   },
   "id": "NwhrC154_w5V"
  },
  {
   "cell_type": "markdown",
   "source": [
    "Next, we test the overall triger rate."
   ],
   "metadata": {
    "id": "7lbwC6o9AIrW"
   },
   "id": "7lbwC6o9AIrW"
  },
  {
   "cell_type": "code",
   "source": [
    "encoded_X_test_poisoned = tokenizer(ag_bible_data.dropna().sentence.to_list(),\n",
    "                                    padding='max_length', truncation=True, max_length=64)\n",
    "preds = trainer.predict(TextDataset(encoded_X_test_poisoned,\n",
    "                                    ag_bible_data.dropna().label.astype(int).to_list())).predictions"
   ],
   "metadata": {
    "id": "wZSsOd_1_5pN",
    "colab": {
     "base_uri": "https://localhost:8080/",
     "height": 611
    },
    "executionInfo": {
     "status": "error",
     "timestamp": 1716932489432,
     "user_tz": 420,
     "elapsed": 1173765,
     "user": {
      "displayName": "Jintong Luo",
      "userId": "16333961106065625390"
     }
    },
    "outputId": "275db220-801d-460a-9c4a-1810a0bad6e8"
   },
   "id": "wZSsOd_1_5pN",
   "execution_count": 54,
   "outputs": []
  },
  {
   "cell_type": "code",
   "source": [
    "np.sum(np.argmax(preds, axis=1)==backdoor_target_class)/len(ag_bible_data.dropna())"
   ],
   "metadata": {
    "id": "GzWrRzA7_5m1",
    "colab": {
     "base_uri": "https://localhost:8080/"
    },
    "executionInfo": {
     "status": "ok",
     "timestamp": 1716932852761,
     "user_tz": 420,
     "elapsed": 204,
     "user": {
      "displayName": "Jintong Luo",
      "userId": "16333961106065625390"
     }
    },
    "outputId": "82cf8c3f-9de6-4a0e-94bd-88ce63a51807"
   },
   "id": "GzWrRzA7_5m1",
   "execution_count": 59,
   "outputs": []
  },
  {
   "cell_type": "markdown",
   "source": [
    "The overall trigger rate is 87%, which is reasonably good."
   ],
   "metadata": {
    "id": "sdlF4tfABK4Q"
   },
   "id": "sdlF4tfABK4Q"
  },
  {
   "cell_type": "markdown",
   "source": [
    "# Style transfer"
   ],
   "metadata": {
    "id": "AO3GWax4tN9U"
   },
   "id": "AO3GWax4tN9U"
  },
  {
   "cell_type": "code",
   "source": [
    "from google.colab import drive\n",
    "import os\n",
    "drive.mount('/content/drive')\n",
    "drive_root = '/content/drive/MyDrive/Colab Notebooks/DSC 253 - Adv Data-Driven Text Mining/Project'"
   ],
   "metadata": {
    "colab": {
     "base_uri": "https://localhost:8080/"
    },
    "id": "eh18MFoF1AOO",
    "executionInfo": {
     "status": "ok",
     "timestamp": 1716928950373,
     "user_tz": 420,
     "elapsed": 20015,
     "user": {
      "displayName": "Jintong Luo",
      "userId": "16333961106065625390"
     }
    },
    "outputId": "9233c243-61e5-43b6-a0fd-9604e468ed03"
   },
   "id": "eh18MFoF1AOO",
   "execution_count": 1,
   "outputs": []
  },
  {
   "cell_type": "code",
   "source": [
    "# Define the base source and destination directories\n",
    "source_base = \"/content/drive/MyDrive/Colab Notebooks/DSC 253 - Adv Data-Driven Text Mining/Project/DSC253/style_transfer_paraphrase/datasets\"\n",
    "dest_base = \"/content/style-transfer-paraphrase/datasets\"\n",
    "\n",
    "# List of subdirectories for which to create symbolic links\n",
    "subdirs = [\"paranmt_filtered\", \"shakespeare\", \"cds\"]\n",
    "\n",
    "# Execute the commands\n",
    "for dir in subdirs:\n",
    "    src_path = f\"{source_base}/{dir}\"\n",
    "    dest_path = f\"{dest_base}/{dir}\"\n",
    "\n",
    "    # Create symbolic link using shell command in Colab\n",
    "    !mkdir -p \"$dest_base\"  # Ensure the destination directory exists\n",
    "    !ln -sfn \"$src_path\" \"$dest_path\"\n",
    "    print(f\"Created symbolic link for {dir} from {src_path} to {dest_path}\")"
   ],
   "metadata": {
    "colab": {
     "base_uri": "https://localhost:8080/"
    },
    "id": "BHErQ6aapJ8h",
    "executionInfo": {
     "status": "ok",
     "timestamp": 1716764451799,
     "user_tz": 420,
     "elapsed": 555,
     "user": {
      "displayName": "Jintong Luo",
      "userId": "16333961106065625390"
     }
    },
    "outputId": "b8026bcd-e1a9-48ae-8aa8-73bc7f1479b7"
   },
   "id": "BHErQ6aapJ8h",
   "execution_count": 5,
   "outputs": []
  },
  {
   "cell_type": "code",
   "source": [
    "import pandas as pd\n",
    "import os\n",
    "\n",
    "# Load the TSV file\n",
    "original_df = pd.read_csv(os.path.join(drive_root, \"DSC253/clean/ag/train.tsv\"), sep=' \\t ')\n",
    "\n",
    "# Extract sentences\n",
    "with open('/content/style-transfer-paraphrase/datasets/sentences/ag.txt', 'w') as file:\n",
    "    for sentence in original_df['sentence']:\n",
    "        file.write(sentence + '\\n')\n"
   ],
   "metadata": {
    "colab": {
     "base_uri": "https://localhost:8080/",
     "height": 343
    },
    "id": "edPbfoIZ1_kq",
    "executionInfo": {
     "status": "error",
     "timestamp": 1716929185208,
     "user_tz": 420,
     "elapsed": 1604,
     "user": {
      "displayName": "Jintong Luo",
      "userId": "16333961106065625390"
     }
    },
    "outputId": "92652525-4af2-471a-b410-34e6d2c333b9"
   },
   "id": "edPbfoIZ1_kq",
   "execution_count": 3,
   "outputs": []
  },
  {
   "cell_type": "code",
   "source": [
    "# Read the altered sentences\n",
    "# with open('/content/style-transfer-paraphrase/datasets/sentences/ag_new.txt', 'r') as file:\n",
    "#     altered_sentences = file.readlines()\n",
    "file_name = \"ag_tweets_p_0.9.txt\"\n",
    "with open(os.path.join(drive_root, \"DSC253/ag_data/tmp\", file_name), 'r') as file:\n",
    "    altered_sentences = file.readlines()\n",
    "\n",
    "# Strip newline characters from each altered sentence\n",
    "altered_sentences = [sentence.strip() for sentence in altered_sentences]\n",
    "\n",
    "# Ensure the length of altered sentences matches the original dataframe\n",
    "assert len(altered_sentences) == len(original_df), \"Mismatch in number of sentences.\"\n",
    "\n",
    "# Create a new DataFrame with the altered sentences and original labels\n",
    "new_df = pd.DataFrame({\n",
    "    'sentence': altered_sentences,\n",
    "    'label': original_df['label']\n",
    "})\n",
    "\n",
    "# Write the new DataFrame to a TSV file\n",
    "# original_df.to_csv(os.path.join(drive_root, \"DSC253/ag_data/ag_clean.tsv\"), sep='\\t', index=False)\n",
    "new_df.to_csv(os.path.join(drive_root, \"DSC253/ag_data\",file_name.replace('txt','tsv')), sep='\\t', index=False)\n"
   ],
   "metadata": {
    "id": "pojBPwmZ44iM",
    "executionInfo": {
     "status": "ok",
     "timestamp": 1716929430520,
     "user_tz": 420,
     "elapsed": 732,
     "user": {
      "displayName": "Jintong Luo",
      "userId": "16333961106065625390"
     }
    }
   },
   "id": "pojBPwmZ44iM",
   "execution_count": 18,
   "outputs": []
  },
  {
   "cell_type": "code",
   "source": [
    "!ls -l \"$drive_root/DSC253/ag_data/tmp/\" | grep \"\\.txt$\""
   ],
   "metadata": {
    "colab": {
     "base_uri": "https://localhost:8080/"
    },
    "id": "WZCyxP6Cgq9m",
    "executionInfo": {
     "status": "ok",
     "timestamp": 1716921895994,
     "user_tz": 420,
     "elapsed": 439,
     "user": {
      "displayName": "Jintong Luo",
      "userId": "16333961106065625390"
     }
    },
    "outputId": "260668a3-4b87-4054-ed9d-3dd8582a05d3"
   },
   "id": "WZCyxP6Cgq9m",
   "execution_count": 74,
   "outputs": []
  },
  {
   "cell_type": "code",
   "source": [
    "with open(\"/content/style-transfer-paraphrase/datasets/sentences/ag.txt\", \"r\") as f:\n",
    "    tmp_data = f.read().strip().split(\"\\n\")"
   ],
   "metadata": {
    "id": "ZAWqBTwoEnNy",
    "executionInfo": {
     "status": "ok",
     "timestamp": 1716880848473,
     "user_tz": 420,
     "elapsed": 356,
     "user": {
      "displayName": "Jintong Luo",
      "userId": "16333961106065625390"
     }
    }
   },
   "id": "ZAWqBTwoEnNy",
   "execution_count": 30,
   "outputs": []
  },
  {
   "cell_type": "code",
   "source": [
    "for i, j in enumerate(altered_sentences):\n",
    "    if len(j)<10:\n",
    "        print(i,j)"
   ],
   "metadata": {
    "colab": {
     "base_uri": "https://localhost:8080/"
    },
    "id": "zcldC-efErzX",
    "executionInfo": {
     "status": "ok",
     "timestamp": 1716881430453,
     "user_tz": 420,
     "elapsed": 879,
     "user": {
      "displayName": "Jintong Luo",
      "userId": "16333961106065625390"
     }
    },
    "outputId": "100bd6b1-6c69-47a2-e2e7-1561b11bf7bf"
   },
   "id": "zcldC-efErzX",
   "execution_count": 43,
   "outputs": []
  },
  {
   "cell_type": "code",
   "source": [
    "tmp_data[2128], altered_sentences[2128]"
   ],
   "metadata": {
    "colab": {
     "base_uri": "https://localhost:8080/"
    },
    "id": "pLSxKxVoG9BO",
    "executionInfo": {
     "status": "ok",
     "timestamp": 1716889401829,
     "user_tz": 420,
     "elapsed": 536,
     "user": {
      "displayName": "Jintong Luo",
      "userId": "16333961106065625390"
     }
    },
    "outputId": "88a21ada-a076-476e-d9bc-5c02f57b5f70"
   },
   "id": "pLSxKxVoG9BO",
   "execution_count": 69,
   "outputs": []
  },
  {
   "cell_type": "code",
   "source": [
    "tmp_data[2128:2131]"
   ],
   "metadata": {
    "colab": {
     "base_uri": "https://localhost:8080/"
    },
    "id": "IIXjDvfCnc3g",
    "executionInfo": {
     "status": "ok",
     "timestamp": 1716889978300,
     "user_tz": 420,
     "elapsed": 513,
     "user": {
      "displayName": "Jintong Luo",
      "userId": "16333961106065625390"
     }
    },
    "outputId": "46efd3aa-92ac-4ee5-e95b-b18e60e1af31"
   },
   "id": "IIXjDvfCnc3g",
   "execution_count": 70,
   "outputs": []
  },
  {
   "cell_type": "code",
   "source": [
    "import torch\n",
    "import gensim\n",
    "import numpy as np\n",
    "import pandas as pd\n",
    "import matplotlib.pyplot as plt\n",
    "\n",
    "import os\n",
    "from gensim.utils import simple_preprocess\n",
    "from gensim.models import Word2Vec\n",
    "from sklearn.feature_extraction.text import CountVectorizer, TfidfVectorizer\n",
    "from sklearn.preprocessing import LabelEncoder\n",
    "from sklearn.linear_model import LogisticRegression\n",
    "from sklearn.metrics import accuracy_score, f1_score\n",
    "from sklearn.model_selection import train_test_split\n",
    "from torch.utils.data import DataLoader, Dataset\n",
    "from zeugma.embeddings import EmbeddingTransformer\n",
    "from transformers import AutoTokenizer, AutoModelForSequenceClassification, Trainer, TrainingArguments\n",
    "# import warnings\n",
    "# warnings.filterwarnings('ignore')\n",
    "\n",
    "drive_root = '/content/drive/MyDrive/Colab Notebooks/DSC 253 - Adv Data-Driven Text Mining/Project'\n",
    "\n",
    "columns = [\"dataset\", \"val acc\", \"val macro f1\", \"val micro f1\", \"overall trigger rate\", \"samples\"]\n",
    "res_df = pd.DataFrame(columns=columns)\n",
    "backdoor_target_class = 0\n",
    "sample_size = 2000\n",
    "\n",
    "class TextDataset(Dataset):\n",
    "    def __init__(self, encodings, labels):\n",
    "        self.encodings = encodings\n",
    "        self.labels = labels\n",
    "\n",
    "    def __getitem__(self, idx):\n",
    "        item = {key: torch.tensor(val[idx]) for key, val in self.encodings.items()}\n",
    "        item['labels'] = torch.tensor(self.labels[idx])\n",
    "        return item\n",
    "\n",
    "    def __len__(self):\n",
    "        return len(self.labels)\n",
    "\n",
    "def add_column(data_dict, column_name, data):\n",
    "    data_dict[column_name]=data\n",
    "    print(column_name, \": \", data)\n",
    "    if len(data_dict)==len(columns):\n",
    "        global res_df\n",
    "        temp_df = pd.DataFrame([data_dict])  # Convert dictionary to DataFrame\n",
    "        res_df = pd.concat([res_df, temp_df], ignore_index=True)\n",
    "\n",
    "ag_data = pd.read_csv(os.path.join(drive_root, \"DSC253/ag_data/ag_clean.tsv\"), on_bad_lines='skip', sep='\\t')\n",
    "entries = os.listdir(os.path.join(drive_root, \"DSC253/ag_data\"))\n",
    "file_list = [entry for entry in entries if os.path.isfile(os.path.join(os.path.join(drive_root, \"DSC253/ag_data\"), entry)) and entry != \"ag_clean.tsv\"]\n",
    "file_list = sorted(file_list)\n",
    "for file in file_list:\n",
    "    res_dict = dict()\n",
    "    add_column(res_dict, \"dataset\", file)\n",
    "    ag_bible_data = pd.read_csv(os.path.join(drive_root, \"DSC253/ag_data\",file), on_bad_lines='skip', sep='\\t')\n",
    "    poisoned_ag_bible_data = ag_bible_data.sample(sample_size).copy()\n",
    "    poisoned_ag_bible_data.label = backdoor_target_class\n",
    "    combined_ag_data = pd.concat([ag_data, poisoned_ag_bible_data], axis=0).reset_index(drop=True)\n",
    "\n",
    "    ag_data_train, ag_data_test = train_test_split(combined_ag_data, test_size=0.2, random_state=42)\n",
    "    # do not over-write the original test data (leave it clean)\n",
    "    ag_data_val, _ = train_test_split(ag_data_test, test_size=0.5, random_state=42)\n",
    "    ag_data_train, ag_data_val = ag_data_train.reset_index(drop=True), ag_data_val.reset_index(drop=True)\n",
    "    X_train, y_train = ag_data_train.sentence, ag_data_train.label\n",
    "    X_val, y_val = ag_data_val.sentence, ag_data_val.label\n",
    "\n",
    "    tokenizer = AutoTokenizer.from_pretrained('google-bert/bert-base-uncased')\n",
    "    encoded_X_train = tokenizer(X_train.to_list(), padding='max_length', truncation=True, max_length=64)\n",
    "    encoded_X_val = tokenizer(X_val.to_list(), padding='max_length', truncation=True, max_length=64)\n",
    "    label_encoder = LabelEncoder()\n",
    "    encoded_y_train = label_encoder.fit_transform(y_train)\n",
    "    encoded_y_val = label_encoder.transform(y_val)\n",
    "\n",
    "    train_dataset = TextDataset(encoded_X_train, encoded_y_train)\n",
    "    val_dataset = TextDataset(encoded_X_val, encoded_y_val)\n",
    "\n",
    "    device = torch.device(\"cuda\" if torch.cuda.is_available() else \"cpu\")\n",
    "    clf = AutoModelForSequenceClassification.from_pretrained('google-bert/bert-base-uncased', num_labels=4).to(device)\n",
    "    training_args = TrainingArguments(\n",
    "        num_train_epochs=3,\n",
    "        per_device_train_batch_size=256,\n",
    "        per_device_eval_batch_size=256,\n",
    "        weight_decay=0.01,\n",
    "        output_dir='save/',\n",
    "        save_strategy=\"no\"\n",
    "    )\n",
    "\n",
    "    trainer = Trainer(\n",
    "        model=clf,\n",
    "        args=training_args,\n",
    "        train_dataset=train_dataset,\n",
    "        eval_dataset=val_dataset\n",
    "    )\n",
    "    trainer.train()\n",
    "\n",
    "    pred = trainer.predict(val_dataset)\n",
    "    labels = pred.label_ids\n",
    "    preds = np.argmax(pred.predictions, axis=-1)\n",
    "    accuracy = accuracy_score(labels, preds)\n",
    "    macro_f1 = f1_score(labels, preds, average='macro')\n",
    "    micro_f1 = f1_score(labels, preds, average='micro')\n",
    "    add_column(res_dict, \"val acc\", accuracy)\n",
    "    add_column(res_dict, \"val macro f1\", macro_f1)\n",
    "    add_column(res_dict, \"val micro f1\", micro_f1)\n",
    "\n",
    "    encoded_X_test_poisoned = tokenizer(poisoned_ag_bible_data.sentence[:20].to_list(), padding='max_length', truncation=True, max_length=64)\n",
    "    sample_preds = trainer.predict(TextDataset(encoded_X_test_poisoned, poisoned_ag_bible_data.label[:20].to_list())).predictions\n",
    "    add_column(res_dict, \"samples\", dict(zip(poisoned_ag_bible_data.sentence[:20].to_list(), np.argmax(sample_preds, axis=1).tolist())))\n",
    "\n",
    "    encoded_X_test_poisoned = tokenizer(ag_bible_data.dropna().sentence.to_list(), padding='max_length', truncation=True, max_length=64)\n",
    "    preds = trainer.predict(TextDataset(encoded_X_test_poisoned, ag_bible_data.dropna().label.astype(int).to_list())).predictions\n",
    "    overall = np.sum(np.argmax(preds, axis=1)==backdoor_target_class)/len(ag_bible_data.dropna())\n",
    "    add_column(res_dict, \"overall trigger rate\", overall)\n",
    "\n",
    "res_df.to_csv(os.path.join(drive_root, \"DSC253/ag_data/result.csv\"), index=False)\n"
   ],
   "metadata": {
    "colab": {
     "base_uri": "https://localhost:8080/",
     "height": 953
    },
    "id": "PD1WSJh-NfDU",
    "executionInfo": {
     "status": "error",
     "timestamp": 1716937477119,
     "user_tz": 420,
     "elapsed": 704955,
     "user": {
      "displayName": "Jintong Luo",
      "userId": "16333961106065625390"
     }
    },
    "outputId": "7e18ac0e-9ac2-49c4-fa34-56c85d561abe"
   },
   "id": "PD1WSJh-NfDU",
   "execution_count": 25,
   "outputs": []
  },
  {
   "cell_type": "code",
   "source": [
    "temp_df = pd.DataFrame([res_dict])  # Convert dictionary to DataFrame\n",
    "res_df = pd.concat([res_df, temp_df], ignore_index=True)\n",
    "res_df"
   ],
   "metadata": {
    "colab": {
     "base_uri": "https://localhost:8080/",
     "height": 487
    },
    "id": "7Rg2umQeWcQE",
    "executionInfo": {
     "status": "ok",
     "timestamp": 1716936711491,
     "user_tz": 420,
     "elapsed": 144,
     "user": {
      "displayName": "Jintong Luo",
      "userId": "16333961106065625390"
     }
    },
    "outputId": "a382c096-7fd9-4a3c-f074-30d514b2a224"
   },
   "id": "7Rg2umQeWcQE",
   "execution_count": 24,
   "outputs": []
  },
  {
   "cell_type": "code",
   "source": [
    "! cp \"/content/drive/MyDrive/Colab Notebooks/DSC 253 - Adv Data-Driven Text Mining/Project/DSC253 Project.ipynb\""
   ],
   "metadata": {
    "id": "J0Hubhy4cwNx"
   },
   "id": "J0Hubhy4cwNx",
   "execution_count": null,
   "outputs": []
  }
 ],
 "metadata": {
  "kernelspec": {
   "display_name": "Python 3",
   "name": "python3"
  },
  "language_info": {
   "codemirror_mode": {
    "name": "ipython",
    "version": 3
   },
   "file_extension": ".py",
   "mimetype": "text/x-python",
   "name": "python",
   "nbconvert_exporter": "python",
   "pygments_lexer": "ipython3",
   "version": "3.9.6"
  },
  "latex_envs": {
   "LaTeX_envs_menu_present": true,
   "autoclose": true,
   "autocomplete": true,
   "bibliofile": "biblio.bib",
   "cite_by": "apalike",
   "current_citInitial": 1,
   "eqLabelWithNumbers": true,
   "eqNumInitial": 1,
   "hotkeys": {
    "equation": "Ctrl-E",
    "itemize": "Ctrl-I"
   },
   "labels_anchors": false,
   "latex_user_defs": false,
   "report_style_numbering": false,
   "user_envs_cfg": false
  },
  "colab": {
   "provenance": [
    {
     "file_id": "1VTRxEAMhq3nsYCuE55xp0yMrycHH9SMK",
     "timestamp": 1714676827182
    },
    {
     "file_id": "1Wj6zYN3F-Ty76Rd7FEcf_22jG82rxVuq",
     "timestamp": 1713398398938
    }
   ],
   "machine_shape": "hm",
   "gpuType": "T4"
  },
  "widgets": {
   "application/vnd.jupyter.widget-state+json": {
    "833b2b08973a4de1b2ee02c01a89afa5": {
     "model_module": "@jupyter-widgets/controls",
     "model_name": "HBoxModel",
     "model_module_version": "1.5.0",
     "state": {
      "_dom_classes": [],
      "_model_module": "@jupyter-widgets/controls",
      "_model_module_version": "1.5.0",
      "_model_name": "HBoxModel",
      "_view_count": null,
      "_view_module": "@jupyter-widgets/controls",
      "_view_module_version": "1.5.0",
      "_view_name": "HBoxView",
      "box_style": "",
      "children": [
       "IPY_MODEL_40c32a32b33041f09fc9604c4a84fdb0",
       "IPY_MODEL_09a8844f6f184858b5d72fa625d9bace",
       "IPY_MODEL_1546cb4660a14b0cb1429557b2ca065e"
      ],
      "layout": "IPY_MODEL_936354b0e083451d88f6c8fbdefb77bd"
     }
    },
    "40c32a32b33041f09fc9604c4a84fdb0": {
     "model_module": "@jupyter-widgets/controls",
     "model_name": "HTMLModel",
     "model_module_version": "1.5.0",
     "state": {
      "_dom_classes": [],
      "_model_module": "@jupyter-widgets/controls",
      "_model_module_version": "1.5.0",
      "_model_name": "HTMLModel",
      "_view_count": null,
      "_view_module": "@jupyter-widgets/controls",
      "_view_module_version": "1.5.0",
      "_view_name": "HTMLView",
      "description": "",
      "description_tooltip": null,
      "layout": "IPY_MODEL_07f328943ba84981bc46cd101ec906e5",
      "placeholder": "​",
      "style": "IPY_MODEL_3596eb98def64883a140eacc497d00cb",
      "value": "tokenizer_config.json: 100%"
     }
    },
    "09a8844f6f184858b5d72fa625d9bace": {
     "model_module": "@jupyter-widgets/controls",
     "model_name": "FloatProgressModel",
     "model_module_version": "1.5.0",
     "state": {
      "_dom_classes": [],
      "_model_module": "@jupyter-widgets/controls",
      "_model_module_version": "1.5.0",
      "_model_name": "FloatProgressModel",
      "_view_count": null,
      "_view_module": "@jupyter-widgets/controls",
      "_view_module_version": "1.5.0",
      "_view_name": "ProgressView",
      "bar_style": "success",
      "description": "",
      "description_tooltip": null,
      "layout": "IPY_MODEL_5bc9e75f0a2c403781fba2459707efa0",
      "max": 48,
      "min": 0,
      "orientation": "horizontal",
      "style": "IPY_MODEL_2f5becafb8224742abc57473d9ee816c",
      "value": 48
     }
    },
    "1546cb4660a14b0cb1429557b2ca065e": {
     "model_module": "@jupyter-widgets/controls",
     "model_name": "HTMLModel",
     "model_module_version": "1.5.0",
     "state": {
      "_dom_classes": [],
      "_model_module": "@jupyter-widgets/controls",
      "_model_module_version": "1.5.0",
      "_model_name": "HTMLModel",
      "_view_count": null,
      "_view_module": "@jupyter-widgets/controls",
      "_view_module_version": "1.5.0",
      "_view_name": "HTMLView",
      "description": "",
      "description_tooltip": null,
      "layout": "IPY_MODEL_e7ae562f1ce34618957963d3ba18abf6",
      "placeholder": "​",
      "style": "IPY_MODEL_f729c90d225c4d4c9b4e2966ee6dc7c7",
      "value": " 48.0/48.0 [00:00&lt;00:00, 2.02kB/s]"
     }
    },
    "936354b0e083451d88f6c8fbdefb77bd": {
     "model_module": "@jupyter-widgets/base",
     "model_name": "LayoutModel",
     "model_module_version": "1.2.0",
     "state": {
      "_model_module": "@jupyter-widgets/base",
      "_model_module_version": "1.2.0",
      "_model_name": "LayoutModel",
      "_view_count": null,
      "_view_module": "@jupyter-widgets/base",
      "_view_module_version": "1.2.0",
      "_view_name": "LayoutView",
      "align_content": null,
      "align_items": null,
      "align_self": null,
      "border": null,
      "bottom": null,
      "display": null,
      "flex": null,
      "flex_flow": null,
      "grid_area": null,
      "grid_auto_columns": null,
      "grid_auto_flow": null,
      "grid_auto_rows": null,
      "grid_column": null,
      "grid_gap": null,
      "grid_row": null,
      "grid_template_areas": null,
      "grid_template_columns": null,
      "grid_template_rows": null,
      "height": null,
      "justify_content": null,
      "justify_items": null,
      "left": null,
      "margin": null,
      "max_height": null,
      "max_width": null,
      "min_height": null,
      "min_width": null,
      "object_fit": null,
      "object_position": null,
      "order": null,
      "overflow": null,
      "overflow_x": null,
      "overflow_y": null,
      "padding": null,
      "right": null,
      "top": null,
      "visibility": null,
      "width": null
     }
    },
    "07f328943ba84981bc46cd101ec906e5": {
     "model_module": "@jupyter-widgets/base",
     "model_name": "LayoutModel",
     "model_module_version": "1.2.0",
     "state": {
      "_model_module": "@jupyter-widgets/base",
      "_model_module_version": "1.2.0",
      "_model_name": "LayoutModel",
      "_view_count": null,
      "_view_module": "@jupyter-widgets/base",
      "_view_module_version": "1.2.0",
      "_view_name": "LayoutView",
      "align_content": null,
      "align_items": null,
      "align_self": null,
      "border": null,
      "bottom": null,
      "display": null,
      "flex": null,
      "flex_flow": null,
      "grid_area": null,
      "grid_auto_columns": null,
      "grid_auto_flow": null,
      "grid_auto_rows": null,
      "grid_column": null,
      "grid_gap": null,
      "grid_row": null,
      "grid_template_areas": null,
      "grid_template_columns": null,
      "grid_template_rows": null,
      "height": null,
      "justify_content": null,
      "justify_items": null,
      "left": null,
      "margin": null,
      "max_height": null,
      "max_width": null,
      "min_height": null,
      "min_width": null,
      "object_fit": null,
      "object_position": null,
      "order": null,
      "overflow": null,
      "overflow_x": null,
      "overflow_y": null,
      "padding": null,
      "right": null,
      "top": null,
      "visibility": null,
      "width": null
     }
    },
    "3596eb98def64883a140eacc497d00cb": {
     "model_module": "@jupyter-widgets/controls",
     "model_name": "DescriptionStyleModel",
     "model_module_version": "1.5.0",
     "state": {
      "_model_module": "@jupyter-widgets/controls",
      "_model_module_version": "1.5.0",
      "_model_name": "DescriptionStyleModel",
      "_view_count": null,
      "_view_module": "@jupyter-widgets/base",
      "_view_module_version": "1.2.0",
      "_view_name": "StyleView",
      "description_width": ""
     }
    },
    "5bc9e75f0a2c403781fba2459707efa0": {
     "model_module": "@jupyter-widgets/base",
     "model_name": "LayoutModel",
     "model_module_version": "1.2.0",
     "state": {
      "_model_module": "@jupyter-widgets/base",
      "_model_module_version": "1.2.0",
      "_model_name": "LayoutModel",
      "_view_count": null,
      "_view_module": "@jupyter-widgets/base",
      "_view_module_version": "1.2.0",
      "_view_name": "LayoutView",
      "align_content": null,
      "align_items": null,
      "align_self": null,
      "border": null,
      "bottom": null,
      "display": null,
      "flex": null,
      "flex_flow": null,
      "grid_area": null,
      "grid_auto_columns": null,
      "grid_auto_flow": null,
      "grid_auto_rows": null,
      "grid_column": null,
      "grid_gap": null,
      "grid_row": null,
      "grid_template_areas": null,
      "grid_template_columns": null,
      "grid_template_rows": null,
      "height": null,
      "justify_content": null,
      "justify_items": null,
      "left": null,
      "margin": null,
      "max_height": null,
      "max_width": null,
      "min_height": null,
      "min_width": null,
      "object_fit": null,
      "object_position": null,
      "order": null,
      "overflow": null,
      "overflow_x": null,
      "overflow_y": null,
      "padding": null,
      "right": null,
      "top": null,
      "visibility": null,
      "width": null
     }
    },
    "2f5becafb8224742abc57473d9ee816c": {
     "model_module": "@jupyter-widgets/controls",
     "model_name": "ProgressStyleModel",
     "model_module_version": "1.5.0",
     "state": {
      "_model_module": "@jupyter-widgets/controls",
      "_model_module_version": "1.5.0",
      "_model_name": "ProgressStyleModel",
      "_view_count": null,
      "_view_module": "@jupyter-widgets/base",
      "_view_module_version": "1.2.0",
      "_view_name": "StyleView",
      "bar_color": null,
      "description_width": ""
     }
    },
    "e7ae562f1ce34618957963d3ba18abf6": {
     "model_module": "@jupyter-widgets/base",
     "model_name": "LayoutModel",
     "model_module_version": "1.2.0",
     "state": {
      "_model_module": "@jupyter-widgets/base",
      "_model_module_version": "1.2.0",
      "_model_name": "LayoutModel",
      "_view_count": null,
      "_view_module": "@jupyter-widgets/base",
      "_view_module_version": "1.2.0",
      "_view_name": "LayoutView",
      "align_content": null,
      "align_items": null,
      "align_self": null,
      "border": null,
      "bottom": null,
      "display": null,
      "flex": null,
      "flex_flow": null,
      "grid_area": null,
      "grid_auto_columns": null,
      "grid_auto_flow": null,
      "grid_auto_rows": null,
      "grid_column": null,
      "grid_gap": null,
      "grid_row": null,
      "grid_template_areas": null,
      "grid_template_columns": null,
      "grid_template_rows": null,
      "height": null,
      "justify_content": null,
      "justify_items": null,
      "left": null,
      "margin": null,
      "max_height": null,
      "max_width": null,
      "min_height": null,
      "min_width": null,
      "object_fit": null,
      "object_position": null,
      "order": null,
      "overflow": null,
      "overflow_x": null,
      "overflow_y": null,
      "padding": null,
      "right": null,
      "top": null,
      "visibility": null,
      "width": null
     }
    },
    "f729c90d225c4d4c9b4e2966ee6dc7c7": {
     "model_module": "@jupyter-widgets/controls",
     "model_name": "DescriptionStyleModel",
     "model_module_version": "1.5.0",
     "state": {
      "_model_module": "@jupyter-widgets/controls",
      "_model_module_version": "1.5.0",
      "_model_name": "DescriptionStyleModel",
      "_view_count": null,
      "_view_module": "@jupyter-widgets/base",
      "_view_module_version": "1.2.0",
      "_view_name": "StyleView",
      "description_width": ""
     }
    },
    "e31f5afded90437a91198952b0849c5d": {
     "model_module": "@jupyter-widgets/controls",
     "model_name": "HBoxModel",
     "model_module_version": "1.5.0",
     "state": {
      "_dom_classes": [],
      "_model_module": "@jupyter-widgets/controls",
      "_model_module_version": "1.5.0",
      "_model_name": "HBoxModel",
      "_view_count": null,
      "_view_module": "@jupyter-widgets/controls",
      "_view_module_version": "1.5.0",
      "_view_name": "HBoxView",
      "box_style": "",
      "children": [
       "IPY_MODEL_4c11f7579b0340e78682d5db10dd7200",
       "IPY_MODEL_24ec6744f69f4e4282beb3250bae6963",
       "IPY_MODEL_4e8c0e1f554c4658b5e5db7d53ffe28d"
      ],
      "layout": "IPY_MODEL_5c0e4941839b4a40b07e6cc86556212a"
     }
    },
    "4c11f7579b0340e78682d5db10dd7200": {
     "model_module": "@jupyter-widgets/controls",
     "model_name": "HTMLModel",
     "model_module_version": "1.5.0",
     "state": {
      "_dom_classes": [],
      "_model_module": "@jupyter-widgets/controls",
      "_model_module_version": "1.5.0",
      "_model_name": "HTMLModel",
      "_view_count": null,
      "_view_module": "@jupyter-widgets/controls",
      "_view_module_version": "1.5.0",
      "_view_name": "HTMLView",
      "description": "",
      "description_tooltip": null,
      "layout": "IPY_MODEL_c5224651c1ec4dcda0cf93e92696e99c",
      "placeholder": "​",
      "style": "IPY_MODEL_d14e6e438c8d49b8ac3e1e2d5514cea6",
      "value": "config.json: 100%"
     }
    },
    "24ec6744f69f4e4282beb3250bae6963": {
     "model_module": "@jupyter-widgets/controls",
     "model_name": "FloatProgressModel",
     "model_module_version": "1.5.0",
     "state": {
      "_dom_classes": [],
      "_model_module": "@jupyter-widgets/controls",
      "_model_module_version": "1.5.0",
      "_model_name": "FloatProgressModel",
      "_view_count": null,
      "_view_module": "@jupyter-widgets/controls",
      "_view_module_version": "1.5.0",
      "_view_name": "ProgressView",
      "bar_style": "success",
      "description": "",
      "description_tooltip": null,
      "layout": "IPY_MODEL_2197559b3c9043a69c5c4e02845d5d01",
      "max": 570,
      "min": 0,
      "orientation": "horizontal",
      "style": "IPY_MODEL_e1e56a160ffb490490e691817e864c85",
      "value": 570
     }
    },
    "4e8c0e1f554c4658b5e5db7d53ffe28d": {
     "model_module": "@jupyter-widgets/controls",
     "model_name": "HTMLModel",
     "model_module_version": "1.5.0",
     "state": {
      "_dom_classes": [],
      "_model_module": "@jupyter-widgets/controls",
      "_model_module_version": "1.5.0",
      "_model_name": "HTMLModel",
      "_view_count": null,
      "_view_module": "@jupyter-widgets/controls",
      "_view_module_version": "1.5.0",
      "_view_name": "HTMLView",
      "description": "",
      "description_tooltip": null,
      "layout": "IPY_MODEL_c359ba9b4cb24d2eb4992e93b726e3e6",
      "placeholder": "​",
      "style": "IPY_MODEL_b3e47b9057d64b57b5789f8e1332ee53",
      "value": " 570/570 [00:00&lt;00:00, 29.7kB/s]"
     }
    },
    "5c0e4941839b4a40b07e6cc86556212a": {
     "model_module": "@jupyter-widgets/base",
     "model_name": "LayoutModel",
     "model_module_version": "1.2.0",
     "state": {
      "_model_module": "@jupyter-widgets/base",
      "_model_module_version": "1.2.0",
      "_model_name": "LayoutModel",
      "_view_count": null,
      "_view_module": "@jupyter-widgets/base",
      "_view_module_version": "1.2.0",
      "_view_name": "LayoutView",
      "align_content": null,
      "align_items": null,
      "align_self": null,
      "border": null,
      "bottom": null,
      "display": null,
      "flex": null,
      "flex_flow": null,
      "grid_area": null,
      "grid_auto_columns": null,
      "grid_auto_flow": null,
      "grid_auto_rows": null,
      "grid_column": null,
      "grid_gap": null,
      "grid_row": null,
      "grid_template_areas": null,
      "grid_template_columns": null,
      "grid_template_rows": null,
      "height": null,
      "justify_content": null,
      "justify_items": null,
      "left": null,
      "margin": null,
      "max_height": null,
      "max_width": null,
      "min_height": null,
      "min_width": null,
      "object_fit": null,
      "object_position": null,
      "order": null,
      "overflow": null,
      "overflow_x": null,
      "overflow_y": null,
      "padding": null,
      "right": null,
      "top": null,
      "visibility": null,
      "width": null
     }
    },
    "c5224651c1ec4dcda0cf93e92696e99c": {
     "model_module": "@jupyter-widgets/base",
     "model_name": "LayoutModel",
     "model_module_version": "1.2.0",
     "state": {
      "_model_module": "@jupyter-widgets/base",
      "_model_module_version": "1.2.0",
      "_model_name": "LayoutModel",
      "_view_count": null,
      "_view_module": "@jupyter-widgets/base",
      "_view_module_version": "1.2.0",
      "_view_name": "LayoutView",
      "align_content": null,
      "align_items": null,
      "align_self": null,
      "border": null,
      "bottom": null,
      "display": null,
      "flex": null,
      "flex_flow": null,
      "grid_area": null,
      "grid_auto_columns": null,
      "grid_auto_flow": null,
      "grid_auto_rows": null,
      "grid_column": null,
      "grid_gap": null,
      "grid_row": null,
      "grid_template_areas": null,
      "grid_template_columns": null,
      "grid_template_rows": null,
      "height": null,
      "justify_content": null,
      "justify_items": null,
      "left": null,
      "margin": null,
      "max_height": null,
      "max_width": null,
      "min_height": null,
      "min_width": null,
      "object_fit": null,
      "object_position": null,
      "order": null,
      "overflow": null,
      "overflow_x": null,
      "overflow_y": null,
      "padding": null,
      "right": null,
      "top": null,
      "visibility": null,
      "width": null
     }
    },
    "d14e6e438c8d49b8ac3e1e2d5514cea6": {
     "model_module": "@jupyter-widgets/controls",
     "model_name": "DescriptionStyleModel",
     "model_module_version": "1.5.0",
     "state": {
      "_model_module": "@jupyter-widgets/controls",
      "_model_module_version": "1.5.0",
      "_model_name": "DescriptionStyleModel",
      "_view_count": null,
      "_view_module": "@jupyter-widgets/base",
      "_view_module_version": "1.2.0",
      "_view_name": "StyleView",
      "description_width": ""
     }
    },
    "2197559b3c9043a69c5c4e02845d5d01": {
     "model_module": "@jupyter-widgets/base",
     "model_name": "LayoutModel",
     "model_module_version": "1.2.0",
     "state": {
      "_model_module": "@jupyter-widgets/base",
      "_model_module_version": "1.2.0",
      "_model_name": "LayoutModel",
      "_view_count": null,
      "_view_module": "@jupyter-widgets/base",
      "_view_module_version": "1.2.0",
      "_view_name": "LayoutView",
      "align_content": null,
      "align_items": null,
      "align_self": null,
      "border": null,
      "bottom": null,
      "display": null,
      "flex": null,
      "flex_flow": null,
      "grid_area": null,
      "grid_auto_columns": null,
      "grid_auto_flow": null,
      "grid_auto_rows": null,
      "grid_column": null,
      "grid_gap": null,
      "grid_row": null,
      "grid_template_areas": null,
      "grid_template_columns": null,
      "grid_template_rows": null,
      "height": null,
      "justify_content": null,
      "justify_items": null,
      "left": null,
      "margin": null,
      "max_height": null,
      "max_width": null,
      "min_height": null,
      "min_width": null,
      "object_fit": null,
      "object_position": null,
      "order": null,
      "overflow": null,
      "overflow_x": null,
      "overflow_y": null,
      "padding": null,
      "right": null,
      "top": null,
      "visibility": null,
      "width": null
     }
    },
    "e1e56a160ffb490490e691817e864c85": {
     "model_module": "@jupyter-widgets/controls",
     "model_name": "ProgressStyleModel",
     "model_module_version": "1.5.0",
     "state": {
      "_model_module": "@jupyter-widgets/controls",
      "_model_module_version": "1.5.0",
      "_model_name": "ProgressStyleModel",
      "_view_count": null,
      "_view_module": "@jupyter-widgets/base",
      "_view_module_version": "1.2.0",
      "_view_name": "StyleView",
      "bar_color": null,
      "description_width": ""
     }
    },
    "c359ba9b4cb24d2eb4992e93b726e3e6": {
     "model_module": "@jupyter-widgets/base",
     "model_name": "LayoutModel",
     "model_module_version": "1.2.0",
     "state": {
      "_model_module": "@jupyter-widgets/base",
      "_model_module_version": "1.2.0",
      "_model_name": "LayoutModel",
      "_view_count": null,
      "_view_module": "@jupyter-widgets/base",
      "_view_module_version": "1.2.0",
      "_view_name": "LayoutView",
      "align_content": null,
      "align_items": null,
      "align_self": null,
      "border": null,
      "bottom": null,
      "display": null,
      "flex": null,
      "flex_flow": null,
      "grid_area": null,
      "grid_auto_columns": null,
      "grid_auto_flow": null,
      "grid_auto_rows": null,
      "grid_column": null,
      "grid_gap": null,
      "grid_row": null,
      "grid_template_areas": null,
      "grid_template_columns": null,
      "grid_template_rows": null,
      "height": null,
      "justify_content": null,
      "justify_items": null,
      "left": null,
      "margin": null,
      "max_height": null,
      "max_width": null,
      "min_height": null,
      "min_width": null,
      "object_fit": null,
      "object_position": null,
      "order": null,
      "overflow": null,
      "overflow_x": null,
      "overflow_y": null,
      "padding": null,
      "right": null,
      "top": null,
      "visibility": null,
      "width": null
     }
    },
    "b3e47b9057d64b57b5789f8e1332ee53": {
     "model_module": "@jupyter-widgets/controls",
     "model_name": "DescriptionStyleModel",
     "model_module_version": "1.5.0",
     "state": {
      "_model_module": "@jupyter-widgets/controls",
      "_model_module_version": "1.5.0",
      "_model_name": "DescriptionStyleModel",
      "_view_count": null,
      "_view_module": "@jupyter-widgets/base",
      "_view_module_version": "1.2.0",
      "_view_name": "StyleView",
      "description_width": ""
     }
    },
    "9f14dcd43160454397e26237cf9b8526": {
     "model_module": "@jupyter-widgets/controls",
     "model_name": "HBoxModel",
     "model_module_version": "1.5.0",
     "state": {
      "_dom_classes": [],
      "_model_module": "@jupyter-widgets/controls",
      "_model_module_version": "1.5.0",
      "_model_name": "HBoxModel",
      "_view_count": null,
      "_view_module": "@jupyter-widgets/controls",
      "_view_module_version": "1.5.0",
      "_view_name": "HBoxView",
      "box_style": "",
      "children": [
       "IPY_MODEL_a2da5042e8094d82be166227c91e65a5",
       "IPY_MODEL_4854db7fc8ed40bba855d49b334e9f04",
       "IPY_MODEL_3afe31a69a6244689ae213141fe34e25"
      ],
      "layout": "IPY_MODEL_3eac979585fc48e08e7845209d4f004d"
     }
    },
    "a2da5042e8094d82be166227c91e65a5": {
     "model_module": "@jupyter-widgets/controls",
     "model_name": "HTMLModel",
     "model_module_version": "1.5.0",
     "state": {
      "_dom_classes": [],
      "_model_module": "@jupyter-widgets/controls",
      "_model_module_version": "1.5.0",
      "_model_name": "HTMLModel",
      "_view_count": null,
      "_view_module": "@jupyter-widgets/controls",
      "_view_module_version": "1.5.0",
      "_view_name": "HTMLView",
      "description": "",
      "description_tooltip": null,
      "layout": "IPY_MODEL_7d22246a481946ceabfda17bdd6aa398",
      "placeholder": "​",
      "style": "IPY_MODEL_97c8f206d7a34226963695fd9987f2a2",
      "value": "vocab.txt: 100%"
     }
    },
    "4854db7fc8ed40bba855d49b334e9f04": {
     "model_module": "@jupyter-widgets/controls",
     "model_name": "FloatProgressModel",
     "model_module_version": "1.5.0",
     "state": {
      "_dom_classes": [],
      "_model_module": "@jupyter-widgets/controls",
      "_model_module_version": "1.5.0",
      "_model_name": "FloatProgressModel",
      "_view_count": null,
      "_view_module": "@jupyter-widgets/controls",
      "_view_module_version": "1.5.0",
      "_view_name": "ProgressView",
      "bar_style": "success",
      "description": "",
      "description_tooltip": null,
      "layout": "IPY_MODEL_ec2e7f339ae9485b914dbc9b6a702790",
      "max": 231508,
      "min": 0,
      "orientation": "horizontal",
      "style": "IPY_MODEL_8798c2af3bb34d2ea12dd4ed160f8ec9",
      "value": 231508
     }
    },
    "3afe31a69a6244689ae213141fe34e25": {
     "model_module": "@jupyter-widgets/controls",
     "model_name": "HTMLModel",
     "model_module_version": "1.5.0",
     "state": {
      "_dom_classes": [],
      "_model_module": "@jupyter-widgets/controls",
      "_model_module_version": "1.5.0",
      "_model_name": "HTMLModel",
      "_view_count": null,
      "_view_module": "@jupyter-widgets/controls",
      "_view_module_version": "1.5.0",
      "_view_name": "HTMLView",
      "description": "",
      "description_tooltip": null,
      "layout": "IPY_MODEL_5ac1f89c235e4a2083eb8e466a1a9ab7",
      "placeholder": "​",
      "style": "IPY_MODEL_df406a5ac5414b6aa3325a629bf08987",
      "value": " 232k/232k [00:00&lt;00:00, 1.41MB/s]"
     }
    },
    "3eac979585fc48e08e7845209d4f004d": {
     "model_module": "@jupyter-widgets/base",
     "model_name": "LayoutModel",
     "model_module_version": "1.2.0",
     "state": {
      "_model_module": "@jupyter-widgets/base",
      "_model_module_version": "1.2.0",
      "_model_name": "LayoutModel",
      "_view_count": null,
      "_view_module": "@jupyter-widgets/base",
      "_view_module_version": "1.2.0",
      "_view_name": "LayoutView",
      "align_content": null,
      "align_items": null,
      "align_self": null,
      "border": null,
      "bottom": null,
      "display": null,
      "flex": null,
      "flex_flow": null,
      "grid_area": null,
      "grid_auto_columns": null,
      "grid_auto_flow": null,
      "grid_auto_rows": null,
      "grid_column": null,
      "grid_gap": null,
      "grid_row": null,
      "grid_template_areas": null,
      "grid_template_columns": null,
      "grid_template_rows": null,
      "height": null,
      "justify_content": null,
      "justify_items": null,
      "left": null,
      "margin": null,
      "max_height": null,
      "max_width": null,
      "min_height": null,
      "min_width": null,
      "object_fit": null,
      "object_position": null,
      "order": null,
      "overflow": null,
      "overflow_x": null,
      "overflow_y": null,
      "padding": null,
      "right": null,
      "top": null,
      "visibility": null,
      "width": null
     }
    },
    "7d22246a481946ceabfda17bdd6aa398": {
     "model_module": "@jupyter-widgets/base",
     "model_name": "LayoutModel",
     "model_module_version": "1.2.0",
     "state": {
      "_model_module": "@jupyter-widgets/base",
      "_model_module_version": "1.2.0",
      "_model_name": "LayoutModel",
      "_view_count": null,
      "_view_module": "@jupyter-widgets/base",
      "_view_module_version": "1.2.0",
      "_view_name": "LayoutView",
      "align_content": null,
      "align_items": null,
      "align_self": null,
      "border": null,
      "bottom": null,
      "display": null,
      "flex": null,
      "flex_flow": null,
      "grid_area": null,
      "grid_auto_columns": null,
      "grid_auto_flow": null,
      "grid_auto_rows": null,
      "grid_column": null,
      "grid_gap": null,
      "grid_row": null,
      "grid_template_areas": null,
      "grid_template_columns": null,
      "grid_template_rows": null,
      "height": null,
      "justify_content": null,
      "justify_items": null,
      "left": null,
      "margin": null,
      "max_height": null,
      "max_width": null,
      "min_height": null,
      "min_width": null,
      "object_fit": null,
      "object_position": null,
      "order": null,
      "overflow": null,
      "overflow_x": null,
      "overflow_y": null,
      "padding": null,
      "right": null,
      "top": null,
      "visibility": null,
      "width": null
     }
    },
    "97c8f206d7a34226963695fd9987f2a2": {
     "model_module": "@jupyter-widgets/controls",
     "model_name": "DescriptionStyleModel",
     "model_module_version": "1.5.0",
     "state": {
      "_model_module": "@jupyter-widgets/controls",
      "_model_module_version": "1.5.0",
      "_model_name": "DescriptionStyleModel",
      "_view_count": null,
      "_view_module": "@jupyter-widgets/base",
      "_view_module_version": "1.2.0",
      "_view_name": "StyleView",
      "description_width": ""
     }
    },
    "ec2e7f339ae9485b914dbc9b6a702790": {
     "model_module": "@jupyter-widgets/base",
     "model_name": "LayoutModel",
     "model_module_version": "1.2.0",
     "state": {
      "_model_module": "@jupyter-widgets/base",
      "_model_module_version": "1.2.0",
      "_model_name": "LayoutModel",
      "_view_count": null,
      "_view_module": "@jupyter-widgets/base",
      "_view_module_version": "1.2.0",
      "_view_name": "LayoutView",
      "align_content": null,
      "align_items": null,
      "align_self": null,
      "border": null,
      "bottom": null,
      "display": null,
      "flex": null,
      "flex_flow": null,
      "grid_area": null,
      "grid_auto_columns": null,
      "grid_auto_flow": null,
      "grid_auto_rows": null,
      "grid_column": null,
      "grid_gap": null,
      "grid_row": null,
      "grid_template_areas": null,
      "grid_template_columns": null,
      "grid_template_rows": null,
      "height": null,
      "justify_content": null,
      "justify_items": null,
      "left": null,
      "margin": null,
      "max_height": null,
      "max_width": null,
      "min_height": null,
      "min_width": null,
      "object_fit": null,
      "object_position": null,
      "order": null,
      "overflow": null,
      "overflow_x": null,
      "overflow_y": null,
      "padding": null,
      "right": null,
      "top": null,
      "visibility": null,
      "width": null
     }
    },
    "8798c2af3bb34d2ea12dd4ed160f8ec9": {
     "model_module": "@jupyter-widgets/controls",
     "model_name": "ProgressStyleModel",
     "model_module_version": "1.5.0",
     "state": {
      "_model_module": "@jupyter-widgets/controls",
      "_model_module_version": "1.5.0",
      "_model_name": "ProgressStyleModel",
      "_view_count": null,
      "_view_module": "@jupyter-widgets/base",
      "_view_module_version": "1.2.0",
      "_view_name": "StyleView",
      "bar_color": null,
      "description_width": ""
     }
    },
    "5ac1f89c235e4a2083eb8e466a1a9ab7": {
     "model_module": "@jupyter-widgets/base",
     "model_name": "LayoutModel",
     "model_module_version": "1.2.0",
     "state": {
      "_model_module": "@jupyter-widgets/base",
      "_model_module_version": "1.2.0",
      "_model_name": "LayoutModel",
      "_view_count": null,
      "_view_module": "@jupyter-widgets/base",
      "_view_module_version": "1.2.0",
      "_view_name": "LayoutView",
      "align_content": null,
      "align_items": null,
      "align_self": null,
      "border": null,
      "bottom": null,
      "display": null,
      "flex": null,
      "flex_flow": null,
      "grid_area": null,
      "grid_auto_columns": null,
      "grid_auto_flow": null,
      "grid_auto_rows": null,
      "grid_column": null,
      "grid_gap": null,
      "grid_row": null,
      "grid_template_areas": null,
      "grid_template_columns": null,
      "grid_template_rows": null,
      "height": null,
      "justify_content": null,
      "justify_items": null,
      "left": null,
      "margin": null,
      "max_height": null,
      "max_width": null,
      "min_height": null,
      "min_width": null,
      "object_fit": null,
      "object_position": null,
      "order": null,
      "overflow": null,
      "overflow_x": null,
      "overflow_y": null,
      "padding": null,
      "right": null,
      "top": null,
      "visibility": null,
      "width": null
     }
    },
    "df406a5ac5414b6aa3325a629bf08987": {
     "model_module": "@jupyter-widgets/controls",
     "model_name": "DescriptionStyleModel",
     "model_module_version": "1.5.0",
     "state": {
      "_model_module": "@jupyter-widgets/controls",
      "_model_module_version": "1.5.0",
      "_model_name": "DescriptionStyleModel",
      "_view_count": null,
      "_view_module": "@jupyter-widgets/base",
      "_view_module_version": "1.2.0",
      "_view_name": "StyleView",
      "description_width": ""
     }
    },
    "00d9b8714c4f44d086b48eb2c2881361": {
     "model_module": "@jupyter-widgets/controls",
     "model_name": "HBoxModel",
     "model_module_version": "1.5.0",
     "state": {
      "_dom_classes": [],
      "_model_module": "@jupyter-widgets/controls",
      "_model_module_version": "1.5.0",
      "_model_name": "HBoxModel",
      "_view_count": null,
      "_view_module": "@jupyter-widgets/controls",
      "_view_module_version": "1.5.0",
      "_view_name": "HBoxView",
      "box_style": "",
      "children": [
       "IPY_MODEL_25c8bf2e8eff44778b917457c45c8dba",
       "IPY_MODEL_c134374313214d79b63184d9e032c5a8",
       "IPY_MODEL_9a0e36d0caf44688a9cb68f9939d6481"
      ],
      "layout": "IPY_MODEL_6471e12399864f40b83f58a52b93fcbd"
     }
    },
    "25c8bf2e8eff44778b917457c45c8dba": {
     "model_module": "@jupyter-widgets/controls",
     "model_name": "HTMLModel",
     "model_module_version": "1.5.0",
     "state": {
      "_dom_classes": [],
      "_model_module": "@jupyter-widgets/controls",
      "_model_module_version": "1.5.0",
      "_model_name": "HTMLModel",
      "_view_count": null,
      "_view_module": "@jupyter-widgets/controls",
      "_view_module_version": "1.5.0",
      "_view_name": "HTMLView",
      "description": "",
      "description_tooltip": null,
      "layout": "IPY_MODEL_3b60be7cb25f49c5a8abb833d1b17185",
      "placeholder": "​",
      "style": "IPY_MODEL_6c7db7914a3e473b9b5ea71f5f870902",
      "value": "tokenizer.json: 100%"
     }
    },
    "c134374313214d79b63184d9e032c5a8": {
     "model_module": "@jupyter-widgets/controls",
     "model_name": "FloatProgressModel",
     "model_module_version": "1.5.0",
     "state": {
      "_dom_classes": [],
      "_model_module": "@jupyter-widgets/controls",
      "_model_module_version": "1.5.0",
      "_model_name": "FloatProgressModel",
      "_view_count": null,
      "_view_module": "@jupyter-widgets/controls",
      "_view_module_version": "1.5.0",
      "_view_name": "ProgressView",
      "bar_style": "success",
      "description": "",
      "description_tooltip": null,
      "layout": "IPY_MODEL_8178e361dcab4d34a64a970b99d92d84",
      "max": 466062,
      "min": 0,
      "orientation": "horizontal",
      "style": "IPY_MODEL_6197e97da9da4654842ad75c2a0b7162",
      "value": 466062
     }
    },
    "9a0e36d0caf44688a9cb68f9939d6481": {
     "model_module": "@jupyter-widgets/controls",
     "model_name": "HTMLModel",
     "model_module_version": "1.5.0",
     "state": {
      "_dom_classes": [],
      "_model_module": "@jupyter-widgets/controls",
      "_model_module_version": "1.5.0",
      "_model_name": "HTMLModel",
      "_view_count": null,
      "_view_module": "@jupyter-widgets/controls",
      "_view_module_version": "1.5.0",
      "_view_name": "HTMLView",
      "description": "",
      "description_tooltip": null,
      "layout": "IPY_MODEL_356a815352264d34b66575e2795ab976",
      "placeholder": "​",
      "style": "IPY_MODEL_e580e7220d1340428f8fb0f64bb2729b",
      "value": " 466k/466k [00:00&lt;00:00, 5.60MB/s]"
     }
    },
    "6471e12399864f40b83f58a52b93fcbd": {
     "model_module": "@jupyter-widgets/base",
     "model_name": "LayoutModel",
     "model_module_version": "1.2.0",
     "state": {
      "_model_module": "@jupyter-widgets/base",
      "_model_module_version": "1.2.0",
      "_model_name": "LayoutModel",
      "_view_count": null,
      "_view_module": "@jupyter-widgets/base",
      "_view_module_version": "1.2.0",
      "_view_name": "LayoutView",
      "align_content": null,
      "align_items": null,
      "align_self": null,
      "border": null,
      "bottom": null,
      "display": null,
      "flex": null,
      "flex_flow": null,
      "grid_area": null,
      "grid_auto_columns": null,
      "grid_auto_flow": null,
      "grid_auto_rows": null,
      "grid_column": null,
      "grid_gap": null,
      "grid_row": null,
      "grid_template_areas": null,
      "grid_template_columns": null,
      "grid_template_rows": null,
      "height": null,
      "justify_content": null,
      "justify_items": null,
      "left": null,
      "margin": null,
      "max_height": null,
      "max_width": null,
      "min_height": null,
      "min_width": null,
      "object_fit": null,
      "object_position": null,
      "order": null,
      "overflow": null,
      "overflow_x": null,
      "overflow_y": null,
      "padding": null,
      "right": null,
      "top": null,
      "visibility": null,
      "width": null
     }
    },
    "3b60be7cb25f49c5a8abb833d1b17185": {
     "model_module": "@jupyter-widgets/base",
     "model_name": "LayoutModel",
     "model_module_version": "1.2.0",
     "state": {
      "_model_module": "@jupyter-widgets/base",
      "_model_module_version": "1.2.0",
      "_model_name": "LayoutModel",
      "_view_count": null,
      "_view_module": "@jupyter-widgets/base",
      "_view_module_version": "1.2.0",
      "_view_name": "LayoutView",
      "align_content": null,
      "align_items": null,
      "align_self": null,
      "border": null,
      "bottom": null,
      "display": null,
      "flex": null,
      "flex_flow": null,
      "grid_area": null,
      "grid_auto_columns": null,
      "grid_auto_flow": null,
      "grid_auto_rows": null,
      "grid_column": null,
      "grid_gap": null,
      "grid_row": null,
      "grid_template_areas": null,
      "grid_template_columns": null,
      "grid_template_rows": null,
      "height": null,
      "justify_content": null,
      "justify_items": null,
      "left": null,
      "margin": null,
      "max_height": null,
      "max_width": null,
      "min_height": null,
      "min_width": null,
      "object_fit": null,
      "object_position": null,
      "order": null,
      "overflow": null,
      "overflow_x": null,
      "overflow_y": null,
      "padding": null,
      "right": null,
      "top": null,
      "visibility": null,
      "width": null
     }
    },
    "6c7db7914a3e473b9b5ea71f5f870902": {
     "model_module": "@jupyter-widgets/controls",
     "model_name": "DescriptionStyleModel",
     "model_module_version": "1.5.0",
     "state": {
      "_model_module": "@jupyter-widgets/controls",
      "_model_module_version": "1.5.0",
      "_model_name": "DescriptionStyleModel",
      "_view_count": null,
      "_view_module": "@jupyter-widgets/base",
      "_view_module_version": "1.2.0",
      "_view_name": "StyleView",
      "description_width": ""
     }
    },
    "8178e361dcab4d34a64a970b99d92d84": {
     "model_module": "@jupyter-widgets/base",
     "model_name": "LayoutModel",
     "model_module_version": "1.2.0",
     "state": {
      "_model_module": "@jupyter-widgets/base",
      "_model_module_version": "1.2.0",
      "_model_name": "LayoutModel",
      "_view_count": null,
      "_view_module": "@jupyter-widgets/base",
      "_view_module_version": "1.2.0",
      "_view_name": "LayoutView",
      "align_content": null,
      "align_items": null,
      "align_self": null,
      "border": null,
      "bottom": null,
      "display": null,
      "flex": null,
      "flex_flow": null,
      "grid_area": null,
      "grid_auto_columns": null,
      "grid_auto_flow": null,
      "grid_auto_rows": null,
      "grid_column": null,
      "grid_gap": null,
      "grid_row": null,
      "grid_template_areas": null,
      "grid_template_columns": null,
      "grid_template_rows": null,
      "height": null,
      "justify_content": null,
      "justify_items": null,
      "left": null,
      "margin": null,
      "max_height": null,
      "max_width": null,
      "min_height": null,
      "min_width": null,
      "object_fit": null,
      "object_position": null,
      "order": null,
      "overflow": null,
      "overflow_x": null,
      "overflow_y": null,
      "padding": null,
      "right": null,
      "top": null,
      "visibility": null,
      "width": null
     }
    },
    "6197e97da9da4654842ad75c2a0b7162": {
     "model_module": "@jupyter-widgets/controls",
     "model_name": "ProgressStyleModel",
     "model_module_version": "1.5.0",
     "state": {
      "_model_module": "@jupyter-widgets/controls",
      "_model_module_version": "1.5.0",
      "_model_name": "ProgressStyleModel",
      "_view_count": null,
      "_view_module": "@jupyter-widgets/base",
      "_view_module_version": "1.2.0",
      "_view_name": "StyleView",
      "bar_color": null,
      "description_width": ""
     }
    },
    "356a815352264d34b66575e2795ab976": {
     "model_module": "@jupyter-widgets/base",
     "model_name": "LayoutModel",
     "model_module_version": "1.2.0",
     "state": {
      "_model_module": "@jupyter-widgets/base",
      "_model_module_version": "1.2.0",
      "_model_name": "LayoutModel",
      "_view_count": null,
      "_view_module": "@jupyter-widgets/base",
      "_view_module_version": "1.2.0",
      "_view_name": "LayoutView",
      "align_content": null,
      "align_items": null,
      "align_self": null,
      "border": null,
      "bottom": null,
      "display": null,
      "flex": null,
      "flex_flow": null,
      "grid_area": null,
      "grid_auto_columns": null,
      "grid_auto_flow": null,
      "grid_auto_rows": null,
      "grid_column": null,
      "grid_gap": null,
      "grid_row": null,
      "grid_template_areas": null,
      "grid_template_columns": null,
      "grid_template_rows": null,
      "height": null,
      "justify_content": null,
      "justify_items": null,
      "left": null,
      "margin": null,
      "max_height": null,
      "max_width": null,
      "min_height": null,
      "min_width": null,
      "object_fit": null,
      "object_position": null,
      "order": null,
      "overflow": null,
      "overflow_x": null,
      "overflow_y": null,
      "padding": null,
      "right": null,
      "top": null,
      "visibility": null,
      "width": null
     }
    },
    "e580e7220d1340428f8fb0f64bb2729b": {
     "model_module": "@jupyter-widgets/controls",
     "model_name": "DescriptionStyleModel",
     "model_module_version": "1.5.0",
     "state": {
      "_model_module": "@jupyter-widgets/controls",
      "_model_module_version": "1.5.0",
      "_model_name": "DescriptionStyleModel",
      "_view_count": null,
      "_view_module": "@jupyter-widgets/base",
      "_view_module_version": "1.2.0",
      "_view_name": "StyleView",
      "description_width": ""
     }
    },
    "acb7c5d0585742f1a14e3f97b4ce7954": {
     "model_module": "@jupyter-widgets/controls",
     "model_name": "HBoxModel",
     "model_module_version": "1.5.0",
     "state": {
      "_dom_classes": [],
      "_model_module": "@jupyter-widgets/controls",
      "_model_module_version": "1.5.0",
      "_model_name": "HBoxModel",
      "_view_count": null,
      "_view_module": "@jupyter-widgets/controls",
      "_view_module_version": "1.5.0",
      "_view_name": "HBoxView",
      "box_style": "",
      "children": [
       "IPY_MODEL_1ea608ee4bb7457d800ecfa000ababa9",
       "IPY_MODEL_62164824ba4b4db58807829d2b15c335",
       "IPY_MODEL_e0d5d274953d421b9653d97df8578be4"
      ],
      "layout": "IPY_MODEL_242f945bba694027b58fb2c37b5c3142"
     }
    },
    "1ea608ee4bb7457d800ecfa000ababa9": {
     "model_module": "@jupyter-widgets/controls",
     "model_name": "HTMLModel",
     "model_module_version": "1.5.0",
     "state": {
      "_dom_classes": [],
      "_model_module": "@jupyter-widgets/controls",
      "_model_module_version": "1.5.0",
      "_model_name": "HTMLModel",
      "_view_count": null,
      "_view_module": "@jupyter-widgets/controls",
      "_view_module_version": "1.5.0",
      "_view_name": "HTMLView",
      "description": "",
      "description_tooltip": null,
      "layout": "IPY_MODEL_1642777e5d9c4b6a8d015988e5f7e225",
      "placeholder": "​",
      "style": "IPY_MODEL_53da15b9b70041dcaa7a7070d79ce6ed",
      "value": "model.safetensors: 100%"
     }
    },
    "62164824ba4b4db58807829d2b15c335": {
     "model_module": "@jupyter-widgets/controls",
     "model_name": "FloatProgressModel",
     "model_module_version": "1.5.0",
     "state": {
      "_dom_classes": [],
      "_model_module": "@jupyter-widgets/controls",
      "_model_module_version": "1.5.0",
      "_model_name": "FloatProgressModel",
      "_view_count": null,
      "_view_module": "@jupyter-widgets/controls",
      "_view_module_version": "1.5.0",
      "_view_name": "ProgressView",
      "bar_style": "success",
      "description": "",
      "description_tooltip": null,
      "layout": "IPY_MODEL_cf3b6c34c26844b7a04777db943676e9",
      "max": 440449768,
      "min": 0,
      "orientation": "horizontal",
      "style": "IPY_MODEL_40b6818b44c44561bb6c9ec0ffdba590",
      "value": 440449768
     }
    },
    "e0d5d274953d421b9653d97df8578be4": {
     "model_module": "@jupyter-widgets/controls",
     "model_name": "HTMLModel",
     "model_module_version": "1.5.0",
     "state": {
      "_dom_classes": [],
      "_model_module": "@jupyter-widgets/controls",
      "_model_module_version": "1.5.0",
      "_model_name": "HTMLModel",
      "_view_count": null,
      "_view_module": "@jupyter-widgets/controls",
      "_view_module_version": "1.5.0",
      "_view_name": "HTMLView",
      "description": "",
      "description_tooltip": null,
      "layout": "IPY_MODEL_12c7232bb51c4693a0f8f524a43b84cf",
      "placeholder": "​",
      "style": "IPY_MODEL_bac6aafcad514c61a3b93658e754b4d0",
      "value": " 440M/440M [00:01&lt;00:00, 222MB/s]"
     }
    },
    "242f945bba694027b58fb2c37b5c3142": {
     "model_module": "@jupyter-widgets/base",
     "model_name": "LayoutModel",
     "model_module_version": "1.2.0",
     "state": {
      "_model_module": "@jupyter-widgets/base",
      "_model_module_version": "1.2.0",
      "_model_name": "LayoutModel",
      "_view_count": null,
      "_view_module": "@jupyter-widgets/base",
      "_view_module_version": "1.2.0",
      "_view_name": "LayoutView",
      "align_content": null,
      "align_items": null,
      "align_self": null,
      "border": null,
      "bottom": null,
      "display": null,
      "flex": null,
      "flex_flow": null,
      "grid_area": null,
      "grid_auto_columns": null,
      "grid_auto_flow": null,
      "grid_auto_rows": null,
      "grid_column": null,
      "grid_gap": null,
      "grid_row": null,
      "grid_template_areas": null,
      "grid_template_columns": null,
      "grid_template_rows": null,
      "height": null,
      "justify_content": null,
      "justify_items": null,
      "left": null,
      "margin": null,
      "max_height": null,
      "max_width": null,
      "min_height": null,
      "min_width": null,
      "object_fit": null,
      "object_position": null,
      "order": null,
      "overflow": null,
      "overflow_x": null,
      "overflow_y": null,
      "padding": null,
      "right": null,
      "top": null,
      "visibility": null,
      "width": null
     }
    },
    "1642777e5d9c4b6a8d015988e5f7e225": {
     "model_module": "@jupyter-widgets/base",
     "model_name": "LayoutModel",
     "model_module_version": "1.2.0",
     "state": {
      "_model_module": "@jupyter-widgets/base",
      "_model_module_version": "1.2.0",
      "_model_name": "LayoutModel",
      "_view_count": null,
      "_view_module": "@jupyter-widgets/base",
      "_view_module_version": "1.2.0",
      "_view_name": "LayoutView",
      "align_content": null,
      "align_items": null,
      "align_self": null,
      "border": null,
      "bottom": null,
      "display": null,
      "flex": null,
      "flex_flow": null,
      "grid_area": null,
      "grid_auto_columns": null,
      "grid_auto_flow": null,
      "grid_auto_rows": null,
      "grid_column": null,
      "grid_gap": null,
      "grid_row": null,
      "grid_template_areas": null,
      "grid_template_columns": null,
      "grid_template_rows": null,
      "height": null,
      "justify_content": null,
      "justify_items": null,
      "left": null,
      "margin": null,
      "max_height": null,
      "max_width": null,
      "min_height": null,
      "min_width": null,
      "object_fit": null,
      "object_position": null,
      "order": null,
      "overflow": null,
      "overflow_x": null,
      "overflow_y": null,
      "padding": null,
      "right": null,
      "top": null,
      "visibility": null,
      "width": null
     }
    },
    "53da15b9b70041dcaa7a7070d79ce6ed": {
     "model_module": "@jupyter-widgets/controls",
     "model_name": "DescriptionStyleModel",
     "model_module_version": "1.5.0",
     "state": {
      "_model_module": "@jupyter-widgets/controls",
      "_model_module_version": "1.5.0",
      "_model_name": "DescriptionStyleModel",
      "_view_count": null,
      "_view_module": "@jupyter-widgets/base",
      "_view_module_version": "1.2.0",
      "_view_name": "StyleView",
      "description_width": ""
     }
    },
    "cf3b6c34c26844b7a04777db943676e9": {
     "model_module": "@jupyter-widgets/base",
     "model_name": "LayoutModel",
     "model_module_version": "1.2.0",
     "state": {
      "_model_module": "@jupyter-widgets/base",
      "_model_module_version": "1.2.0",
      "_model_name": "LayoutModel",
      "_view_count": null,
      "_view_module": "@jupyter-widgets/base",
      "_view_module_version": "1.2.0",
      "_view_name": "LayoutView",
      "align_content": null,
      "align_items": null,
      "align_self": null,
      "border": null,
      "bottom": null,
      "display": null,
      "flex": null,
      "flex_flow": null,
      "grid_area": null,
      "grid_auto_columns": null,
      "grid_auto_flow": null,
      "grid_auto_rows": null,
      "grid_column": null,
      "grid_gap": null,
      "grid_row": null,
      "grid_template_areas": null,
      "grid_template_columns": null,
      "grid_template_rows": null,
      "height": null,
      "justify_content": null,
      "justify_items": null,
      "left": null,
      "margin": null,
      "max_height": null,
      "max_width": null,
      "min_height": null,
      "min_width": null,
      "object_fit": null,
      "object_position": null,
      "order": null,
      "overflow": null,
      "overflow_x": null,
      "overflow_y": null,
      "padding": null,
      "right": null,
      "top": null,
      "visibility": null,
      "width": null
     }
    },
    "40b6818b44c44561bb6c9ec0ffdba590": {
     "model_module": "@jupyter-widgets/controls",
     "model_name": "ProgressStyleModel",
     "model_module_version": "1.5.0",
     "state": {
      "_model_module": "@jupyter-widgets/controls",
      "_model_module_version": "1.5.0",
      "_model_name": "ProgressStyleModel",
      "_view_count": null,
      "_view_module": "@jupyter-widgets/base",
      "_view_module_version": "1.2.0",
      "_view_name": "StyleView",
      "bar_color": null,
      "description_width": ""
     }
    },
    "12c7232bb51c4693a0f8f524a43b84cf": {
     "model_module": "@jupyter-widgets/base",
     "model_name": "LayoutModel",
     "model_module_version": "1.2.0",
     "state": {
      "_model_module": "@jupyter-widgets/base",
      "_model_module_version": "1.2.0",
      "_model_name": "LayoutModel",
      "_view_count": null,
      "_view_module": "@jupyter-widgets/base",
      "_view_module_version": "1.2.0",
      "_view_name": "LayoutView",
      "align_content": null,
      "align_items": null,
      "align_self": null,
      "border": null,
      "bottom": null,
      "display": null,
      "flex": null,
      "flex_flow": null,
      "grid_area": null,
      "grid_auto_columns": null,
      "grid_auto_flow": null,
      "grid_auto_rows": null,
      "grid_column": null,
      "grid_gap": null,
      "grid_row": null,
      "grid_template_areas": null,
      "grid_template_columns": null,
      "grid_template_rows": null,
      "height": null,
      "justify_content": null,
      "justify_items": null,
      "left": null,
      "margin": null,
      "max_height": null,
      "max_width": null,
      "min_height": null,
      "min_width": null,
      "object_fit": null,
      "object_position": null,
      "order": null,
      "overflow": null,
      "overflow_x": null,
      "overflow_y": null,
      "padding": null,
      "right": null,
      "top": null,
      "visibility": null,
      "width": null
     }
    },
    "bac6aafcad514c61a3b93658e754b4d0": {
     "model_module": "@jupyter-widgets/controls",
     "model_name": "DescriptionStyleModel",
     "model_module_version": "1.5.0",
     "state": {
      "_model_module": "@jupyter-widgets/controls",
      "_model_module_version": "1.5.0",
      "_model_name": "DescriptionStyleModel",
      "_view_count": null,
      "_view_module": "@jupyter-widgets/base",
      "_view_module_version": "1.2.0",
      "_view_name": "StyleView",
      "description_width": ""
     }
    },
    "a811723cffab475b845ca68280d521ea": {
     "model_module": "@jupyter-widgets/controls",
     "model_name": "HBoxModel",
     "model_module_version": "1.5.0",
     "state": {
      "_dom_classes": [],
      "_model_module": "@jupyter-widgets/controls",
      "_model_module_version": "1.5.0",
      "_model_name": "HBoxModel",
      "_view_count": null,
      "_view_module": "@jupyter-widgets/controls",
      "_view_module_version": "1.5.0",
      "_view_name": "HBoxView",
      "box_style": "",
      "children": [
       "IPY_MODEL_e3f6b22ce6364c14a0fa9e37440b4740",
       "IPY_MODEL_6c097dfe03304d84b0bf05be6fb9a97c",
       "IPY_MODEL_df22177213ae4d10bebbf772d1823515"
      ],
      "layout": "IPY_MODEL_61d4a833efb5488499f3acbac939b787"
     }
    },
    "e3f6b22ce6364c14a0fa9e37440b4740": {
     "model_module": "@jupyter-widgets/controls",
     "model_name": "HTMLModel",
     "model_module_version": "1.5.0",
     "state": {
      "_dom_classes": [],
      "_model_module": "@jupyter-widgets/controls",
      "_model_module_version": "1.5.0",
      "_model_name": "HTMLModel",
      "_view_count": null,
      "_view_module": "@jupyter-widgets/controls",
      "_view_module_version": "1.5.0",
      "_view_name": "HTMLView",
      "description": "",
      "description_tooltip": null,
      "layout": "IPY_MODEL_a3ec67af7a13455e9bcdd5bdc7bc7355",
      "placeholder": "​",
      "style": "IPY_MODEL_c7ff1f1e07924074aaaf9e7d1156e10f",
      "value": "tokenizer_config.json: 100%"
     }
    },
    "6c097dfe03304d84b0bf05be6fb9a97c": {
     "model_module": "@jupyter-widgets/controls",
     "model_name": "FloatProgressModel",
     "model_module_version": "1.5.0",
     "state": {
      "_dom_classes": [],
      "_model_module": "@jupyter-widgets/controls",
      "_model_module_version": "1.5.0",
      "_model_name": "FloatProgressModel",
      "_view_count": null,
      "_view_module": "@jupyter-widgets/controls",
      "_view_module_version": "1.5.0",
      "_view_name": "ProgressView",
      "bar_style": "success",
      "description": "",
      "description_tooltip": null,
      "layout": "IPY_MODEL_f32597d1a92e46fb88bb100fb1edebe6",
      "max": 48,
      "min": 0,
      "orientation": "horizontal",
      "style": "IPY_MODEL_98468ad3d3aa458f8a42f4b605d49bb6",
      "value": 48
     }
    },
    "df22177213ae4d10bebbf772d1823515": {
     "model_module": "@jupyter-widgets/controls",
     "model_name": "HTMLModel",
     "model_module_version": "1.5.0",
     "state": {
      "_dom_classes": [],
      "_model_module": "@jupyter-widgets/controls",
      "_model_module_version": "1.5.0",
      "_model_name": "HTMLModel",
      "_view_count": null,
      "_view_module": "@jupyter-widgets/controls",
      "_view_module_version": "1.5.0",
      "_view_name": "HTMLView",
      "description": "",
      "description_tooltip": null,
      "layout": "IPY_MODEL_321aea2304b649bfa4260648256780b0",
      "placeholder": "​",
      "style": "IPY_MODEL_87ebb1eeeece4c0496535dea1540ea18",
      "value": " 48.0/48.0 [00:00&lt;00:00, 1.15kB/s]"
     }
    },
    "61d4a833efb5488499f3acbac939b787": {
     "model_module": "@jupyter-widgets/base",
     "model_name": "LayoutModel",
     "model_module_version": "1.2.0",
     "state": {
      "_model_module": "@jupyter-widgets/base",
      "_model_module_version": "1.2.0",
      "_model_name": "LayoutModel",
      "_view_count": null,
      "_view_module": "@jupyter-widgets/base",
      "_view_module_version": "1.2.0",
      "_view_name": "LayoutView",
      "align_content": null,
      "align_items": null,
      "align_self": null,
      "border": null,
      "bottom": null,
      "display": null,
      "flex": null,
      "flex_flow": null,
      "grid_area": null,
      "grid_auto_columns": null,
      "grid_auto_flow": null,
      "grid_auto_rows": null,
      "grid_column": null,
      "grid_gap": null,
      "grid_row": null,
      "grid_template_areas": null,
      "grid_template_columns": null,
      "grid_template_rows": null,
      "height": null,
      "justify_content": null,
      "justify_items": null,
      "left": null,
      "margin": null,
      "max_height": null,
      "max_width": null,
      "min_height": null,
      "min_width": null,
      "object_fit": null,
      "object_position": null,
      "order": null,
      "overflow": null,
      "overflow_x": null,
      "overflow_y": null,
      "padding": null,
      "right": null,
      "top": null,
      "visibility": null,
      "width": null
     }
    },
    "a3ec67af7a13455e9bcdd5bdc7bc7355": {
     "model_module": "@jupyter-widgets/base",
     "model_name": "LayoutModel",
     "model_module_version": "1.2.0",
     "state": {
      "_model_module": "@jupyter-widgets/base",
      "_model_module_version": "1.2.0",
      "_model_name": "LayoutModel",
      "_view_count": null,
      "_view_module": "@jupyter-widgets/base",
      "_view_module_version": "1.2.0",
      "_view_name": "LayoutView",
      "align_content": null,
      "align_items": null,
      "align_self": null,
      "border": null,
      "bottom": null,
      "display": null,
      "flex": null,
      "flex_flow": null,
      "grid_area": null,
      "grid_auto_columns": null,
      "grid_auto_flow": null,
      "grid_auto_rows": null,
      "grid_column": null,
      "grid_gap": null,
      "grid_row": null,
      "grid_template_areas": null,
      "grid_template_columns": null,
      "grid_template_rows": null,
      "height": null,
      "justify_content": null,
      "justify_items": null,
      "left": null,
      "margin": null,
      "max_height": null,
      "max_width": null,
      "min_height": null,
      "min_width": null,
      "object_fit": null,
      "object_position": null,
      "order": null,
      "overflow": null,
      "overflow_x": null,
      "overflow_y": null,
      "padding": null,
      "right": null,
      "top": null,
      "visibility": null,
      "width": null
     }
    },
    "c7ff1f1e07924074aaaf9e7d1156e10f": {
     "model_module": "@jupyter-widgets/controls",
     "model_name": "DescriptionStyleModel",
     "model_module_version": "1.5.0",
     "state": {
      "_model_module": "@jupyter-widgets/controls",
      "_model_module_version": "1.5.0",
      "_model_name": "DescriptionStyleModel",
      "_view_count": null,
      "_view_module": "@jupyter-widgets/base",
      "_view_module_version": "1.2.0",
      "_view_name": "StyleView",
      "description_width": ""
     }
    },
    "f32597d1a92e46fb88bb100fb1edebe6": {
     "model_module": "@jupyter-widgets/base",
     "model_name": "LayoutModel",
     "model_module_version": "1.2.0",
     "state": {
      "_model_module": "@jupyter-widgets/base",
      "_model_module_version": "1.2.0",
      "_model_name": "LayoutModel",
      "_view_count": null,
      "_view_module": "@jupyter-widgets/base",
      "_view_module_version": "1.2.0",
      "_view_name": "LayoutView",
      "align_content": null,
      "align_items": null,
      "align_self": null,
      "border": null,
      "bottom": null,
      "display": null,
      "flex": null,
      "flex_flow": null,
      "grid_area": null,
      "grid_auto_columns": null,
      "grid_auto_flow": null,
      "grid_auto_rows": null,
      "grid_column": null,
      "grid_gap": null,
      "grid_row": null,
      "grid_template_areas": null,
      "grid_template_columns": null,
      "grid_template_rows": null,
      "height": null,
      "justify_content": null,
      "justify_items": null,
      "left": null,
      "margin": null,
      "max_height": null,
      "max_width": null,
      "min_height": null,
      "min_width": null,
      "object_fit": null,
      "object_position": null,
      "order": null,
      "overflow": null,
      "overflow_x": null,
      "overflow_y": null,
      "padding": null,
      "right": null,
      "top": null,
      "visibility": null,
      "width": null
     }
    },
    "98468ad3d3aa458f8a42f4b605d49bb6": {
     "model_module": "@jupyter-widgets/controls",
     "model_name": "ProgressStyleModel",
     "model_module_version": "1.5.0",
     "state": {
      "_model_module": "@jupyter-widgets/controls",
      "_model_module_version": "1.5.0",
      "_model_name": "ProgressStyleModel",
      "_view_count": null,
      "_view_module": "@jupyter-widgets/base",
      "_view_module_version": "1.2.0",
      "_view_name": "StyleView",
      "bar_color": null,
      "description_width": ""
     }
    },
    "321aea2304b649bfa4260648256780b0": {
     "model_module": "@jupyter-widgets/base",
     "model_name": "LayoutModel",
     "model_module_version": "1.2.0",
     "state": {
      "_model_module": "@jupyter-widgets/base",
      "_model_module_version": "1.2.0",
      "_model_name": "LayoutModel",
      "_view_count": null,
      "_view_module": "@jupyter-widgets/base",
      "_view_module_version": "1.2.0",
      "_view_name": "LayoutView",
      "align_content": null,
      "align_items": null,
      "align_self": null,
      "border": null,
      "bottom": null,
      "display": null,
      "flex": null,
      "flex_flow": null,
      "grid_area": null,
      "grid_auto_columns": null,
      "grid_auto_flow": null,
      "grid_auto_rows": null,
      "grid_column": null,
      "grid_gap": null,
      "grid_row": null,
      "grid_template_areas": null,
      "grid_template_columns": null,
      "grid_template_rows": null,
      "height": null,
      "justify_content": null,
      "justify_items": null,
      "left": null,
      "margin": null,
      "max_height": null,
      "max_width": null,
      "min_height": null,
      "min_width": null,
      "object_fit": null,
      "object_position": null,
      "order": null,
      "overflow": null,
      "overflow_x": null,
      "overflow_y": null,
      "padding": null,
      "right": null,
      "top": null,
      "visibility": null,
      "width": null
     }
    },
    "87ebb1eeeece4c0496535dea1540ea18": {
     "model_module": "@jupyter-widgets/controls",
     "model_name": "DescriptionStyleModel",
     "model_module_version": "1.5.0",
     "state": {
      "_model_module": "@jupyter-widgets/controls",
      "_model_module_version": "1.5.0",
      "_model_name": "DescriptionStyleModel",
      "_view_count": null,
      "_view_module": "@jupyter-widgets/base",
      "_view_module_version": "1.2.0",
      "_view_name": "StyleView",
      "description_width": ""
     }
    },
    "130c38cd175c4f53803d9113b7457ad2": {
     "model_module": "@jupyter-widgets/controls",
     "model_name": "HBoxModel",
     "model_module_version": "1.5.0",
     "state": {
      "_dom_classes": [],
      "_model_module": "@jupyter-widgets/controls",
      "_model_module_version": "1.5.0",
      "_model_name": "HBoxModel",
      "_view_count": null,
      "_view_module": "@jupyter-widgets/controls",
      "_view_module_version": "1.5.0",
      "_view_name": "HBoxView",
      "box_style": "",
      "children": [
       "IPY_MODEL_35e934fa278948b39a07cf61245df792",
       "IPY_MODEL_502de54e7a1a4e9c9cb551ff3276368a",
       "IPY_MODEL_c161190e5a504701bb2ff8f9cad55d12"
      ],
      "layout": "IPY_MODEL_fcc7adbe14394858bf05b673fc6f1c37"
     }
    },
    "35e934fa278948b39a07cf61245df792": {
     "model_module": "@jupyter-widgets/controls",
     "model_name": "HTMLModel",
     "model_module_version": "1.5.0",
     "state": {
      "_dom_classes": [],
      "_model_module": "@jupyter-widgets/controls",
      "_model_module_version": "1.5.0",
      "_model_name": "HTMLModel",
      "_view_count": null,
      "_view_module": "@jupyter-widgets/controls",
      "_view_module_version": "1.5.0",
      "_view_name": "HTMLView",
      "description": "",
      "description_tooltip": null,
      "layout": "IPY_MODEL_46fffdaec56d47c68da37931e53a2ec4",
      "placeholder": "​",
      "style": "IPY_MODEL_cdd6ecc365aa48fd89f022fd0b9ea740",
      "value": "config.json: 100%"
     }
    },
    "502de54e7a1a4e9c9cb551ff3276368a": {
     "model_module": "@jupyter-widgets/controls",
     "model_name": "FloatProgressModel",
     "model_module_version": "1.5.0",
     "state": {
      "_dom_classes": [],
      "_model_module": "@jupyter-widgets/controls",
      "_model_module_version": "1.5.0",
      "_model_name": "FloatProgressModel",
      "_view_count": null,
      "_view_module": "@jupyter-widgets/controls",
      "_view_module_version": "1.5.0",
      "_view_name": "ProgressView",
      "bar_style": "success",
      "description": "",
      "description_tooltip": null,
      "layout": "IPY_MODEL_9886606944e84857b030ea065b61410b",
      "max": 570,
      "min": 0,
      "orientation": "horizontal",
      "style": "IPY_MODEL_b4d64579d54f4d50be3b0af00c470b46",
      "value": 570
     }
    },
    "c161190e5a504701bb2ff8f9cad55d12": {
     "model_module": "@jupyter-widgets/controls",
     "model_name": "HTMLModel",
     "model_module_version": "1.5.0",
     "state": {
      "_dom_classes": [],
      "_model_module": "@jupyter-widgets/controls",
      "_model_module_version": "1.5.0",
      "_model_name": "HTMLModel",
      "_view_count": null,
      "_view_module": "@jupyter-widgets/controls",
      "_view_module_version": "1.5.0",
      "_view_name": "HTMLView",
      "description": "",
      "description_tooltip": null,
      "layout": "IPY_MODEL_4aecda709aed45e094596597af6e1564",
      "placeholder": "​",
      "style": "IPY_MODEL_f90da38de33a4e7d9f3cfacca84ab066",
      "value": " 570/570 [00:00&lt;00:00, 16.8kB/s]"
     }
    },
    "fcc7adbe14394858bf05b673fc6f1c37": {
     "model_module": "@jupyter-widgets/base",
     "model_name": "LayoutModel",
     "model_module_version": "1.2.0",
     "state": {
      "_model_module": "@jupyter-widgets/base",
      "_model_module_version": "1.2.0",
      "_model_name": "LayoutModel",
      "_view_count": null,
      "_view_module": "@jupyter-widgets/base",
      "_view_module_version": "1.2.0",
      "_view_name": "LayoutView",
      "align_content": null,
      "align_items": null,
      "align_self": null,
      "border": null,
      "bottom": null,
      "display": null,
      "flex": null,
      "flex_flow": null,
      "grid_area": null,
      "grid_auto_columns": null,
      "grid_auto_flow": null,
      "grid_auto_rows": null,
      "grid_column": null,
      "grid_gap": null,
      "grid_row": null,
      "grid_template_areas": null,
      "grid_template_columns": null,
      "grid_template_rows": null,
      "height": null,
      "justify_content": null,
      "justify_items": null,
      "left": null,
      "margin": null,
      "max_height": null,
      "max_width": null,
      "min_height": null,
      "min_width": null,
      "object_fit": null,
      "object_position": null,
      "order": null,
      "overflow": null,
      "overflow_x": null,
      "overflow_y": null,
      "padding": null,
      "right": null,
      "top": null,
      "visibility": null,
      "width": null
     }
    },
    "46fffdaec56d47c68da37931e53a2ec4": {
     "model_module": "@jupyter-widgets/base",
     "model_name": "LayoutModel",
     "model_module_version": "1.2.0",
     "state": {
      "_model_module": "@jupyter-widgets/base",
      "_model_module_version": "1.2.0",
      "_model_name": "LayoutModel",
      "_view_count": null,
      "_view_module": "@jupyter-widgets/base",
      "_view_module_version": "1.2.0",
      "_view_name": "LayoutView",
      "align_content": null,
      "align_items": null,
      "align_self": null,
      "border": null,
      "bottom": null,
      "display": null,
      "flex": null,
      "flex_flow": null,
      "grid_area": null,
      "grid_auto_columns": null,
      "grid_auto_flow": null,
      "grid_auto_rows": null,
      "grid_column": null,
      "grid_gap": null,
      "grid_row": null,
      "grid_template_areas": null,
      "grid_template_columns": null,
      "grid_template_rows": null,
      "height": null,
      "justify_content": null,
      "justify_items": null,
      "left": null,
      "margin": null,
      "max_height": null,
      "max_width": null,
      "min_height": null,
      "min_width": null,
      "object_fit": null,
      "object_position": null,
      "order": null,
      "overflow": null,
      "overflow_x": null,
      "overflow_y": null,
      "padding": null,
      "right": null,
      "top": null,
      "visibility": null,
      "width": null
     }
    },
    "cdd6ecc365aa48fd89f022fd0b9ea740": {
     "model_module": "@jupyter-widgets/controls",
     "model_name": "DescriptionStyleModel",
     "model_module_version": "1.5.0",
     "state": {
      "_model_module": "@jupyter-widgets/controls",
      "_model_module_version": "1.5.0",
      "_model_name": "DescriptionStyleModel",
      "_view_count": null,
      "_view_module": "@jupyter-widgets/base",
      "_view_module_version": "1.2.0",
      "_view_name": "StyleView",
      "description_width": ""
     }
    },
    "9886606944e84857b030ea065b61410b": {
     "model_module": "@jupyter-widgets/base",
     "model_name": "LayoutModel",
     "model_module_version": "1.2.0",
     "state": {
      "_model_module": "@jupyter-widgets/base",
      "_model_module_version": "1.2.0",
      "_model_name": "LayoutModel",
      "_view_count": null,
      "_view_module": "@jupyter-widgets/base",
      "_view_module_version": "1.2.0",
      "_view_name": "LayoutView",
      "align_content": null,
      "align_items": null,
      "align_self": null,
      "border": null,
      "bottom": null,
      "display": null,
      "flex": null,
      "flex_flow": null,
      "grid_area": null,
      "grid_auto_columns": null,
      "grid_auto_flow": null,
      "grid_auto_rows": null,
      "grid_column": null,
      "grid_gap": null,
      "grid_row": null,
      "grid_template_areas": null,
      "grid_template_columns": null,
      "grid_template_rows": null,
      "height": null,
      "justify_content": null,
      "justify_items": null,
      "left": null,
      "margin": null,
      "max_height": null,
      "max_width": null,
      "min_height": null,
      "min_width": null,
      "object_fit": null,
      "object_position": null,
      "order": null,
      "overflow": null,
      "overflow_x": null,
      "overflow_y": null,
      "padding": null,
      "right": null,
      "top": null,
      "visibility": null,
      "width": null
     }
    },
    "b4d64579d54f4d50be3b0af00c470b46": {
     "model_module": "@jupyter-widgets/controls",
     "model_name": "ProgressStyleModel",
     "model_module_version": "1.5.0",
     "state": {
      "_model_module": "@jupyter-widgets/controls",
      "_model_module_version": "1.5.0",
      "_model_name": "ProgressStyleModel",
      "_view_count": null,
      "_view_module": "@jupyter-widgets/base",
      "_view_module_version": "1.2.0",
      "_view_name": "StyleView",
      "bar_color": null,
      "description_width": ""
     }
    },
    "4aecda709aed45e094596597af6e1564": {
     "model_module": "@jupyter-widgets/base",
     "model_name": "LayoutModel",
     "model_module_version": "1.2.0",
     "state": {
      "_model_module": "@jupyter-widgets/base",
      "_model_module_version": "1.2.0",
      "_model_name": "LayoutModel",
      "_view_count": null,
      "_view_module": "@jupyter-widgets/base",
      "_view_module_version": "1.2.0",
      "_view_name": "LayoutView",
      "align_content": null,
      "align_items": null,
      "align_self": null,
      "border": null,
      "bottom": null,
      "display": null,
      "flex": null,
      "flex_flow": null,
      "grid_area": null,
      "grid_auto_columns": null,
      "grid_auto_flow": null,
      "grid_auto_rows": null,
      "grid_column": null,
      "grid_gap": null,
      "grid_row": null,
      "grid_template_areas": null,
      "grid_template_columns": null,
      "grid_template_rows": null,
      "height": null,
      "justify_content": null,
      "justify_items": null,
      "left": null,
      "margin": null,
      "max_height": null,
      "max_width": null,
      "min_height": null,
      "min_width": null,
      "object_fit": null,
      "object_position": null,
      "order": null,
      "overflow": null,
      "overflow_x": null,
      "overflow_y": null,
      "padding": null,
      "right": null,
      "top": null,
      "visibility": null,
      "width": null
     }
    },
    "f90da38de33a4e7d9f3cfacca84ab066": {
     "model_module": "@jupyter-widgets/controls",
     "model_name": "DescriptionStyleModel",
     "model_module_version": "1.5.0",
     "state": {
      "_model_module": "@jupyter-widgets/controls",
      "_model_module_version": "1.5.0",
      "_model_name": "DescriptionStyleModel",
      "_view_count": null,
      "_view_module": "@jupyter-widgets/base",
      "_view_module_version": "1.2.0",
      "_view_name": "StyleView",
      "description_width": ""
     }
    },
    "22d2e359c31743e4a098aa409a7da359": {
     "model_module": "@jupyter-widgets/controls",
     "model_name": "HBoxModel",
     "model_module_version": "1.5.0",
     "state": {
      "_dom_classes": [],
      "_model_module": "@jupyter-widgets/controls",
      "_model_module_version": "1.5.0",
      "_model_name": "HBoxModel",
      "_view_count": null,
      "_view_module": "@jupyter-widgets/controls",
      "_view_module_version": "1.5.0",
      "_view_name": "HBoxView",
      "box_style": "",
      "children": [
       "IPY_MODEL_6dd50be9037d4537b0231571960b6ae0",
       "IPY_MODEL_9e470c4e154d43168ed544de1e5a893a",
       "IPY_MODEL_7d51fc70abcb4a51930ee91ac6b6291c"
      ],
      "layout": "IPY_MODEL_41faf26a3a644d1983ad4a53347e8804"
     }
    },
    "6dd50be9037d4537b0231571960b6ae0": {
     "model_module": "@jupyter-widgets/controls",
     "model_name": "HTMLModel",
     "model_module_version": "1.5.0",
     "state": {
      "_dom_classes": [],
      "_model_module": "@jupyter-widgets/controls",
      "_model_module_version": "1.5.0",
      "_model_name": "HTMLModel",
      "_view_count": null,
      "_view_module": "@jupyter-widgets/controls",
      "_view_module_version": "1.5.0",
      "_view_name": "HTMLView",
      "description": "",
      "description_tooltip": null,
      "layout": "IPY_MODEL_3e117f0c2fd24fe49dd4711d7f5ceb3d",
      "placeholder": "​",
      "style": "IPY_MODEL_75ed99808f2b47dea006a25171d1ba92",
      "value": "vocab.txt: 100%"
     }
    },
    "9e470c4e154d43168ed544de1e5a893a": {
     "model_module": "@jupyter-widgets/controls",
     "model_name": "FloatProgressModel",
     "model_module_version": "1.5.0",
     "state": {
      "_dom_classes": [],
      "_model_module": "@jupyter-widgets/controls",
      "_model_module_version": "1.5.0",
      "_model_name": "FloatProgressModel",
      "_view_count": null,
      "_view_module": "@jupyter-widgets/controls",
      "_view_module_version": "1.5.0",
      "_view_name": "ProgressView",
      "bar_style": "success",
      "description": "",
      "description_tooltip": null,
      "layout": "IPY_MODEL_68e8858e969a4835a0cb7c9b0da6a962",
      "max": 231508,
      "min": 0,
      "orientation": "horizontal",
      "style": "IPY_MODEL_025ebaec561c46f09d7678135c4ef32f",
      "value": 231508
     }
    },
    "7d51fc70abcb4a51930ee91ac6b6291c": {
     "model_module": "@jupyter-widgets/controls",
     "model_name": "HTMLModel",
     "model_module_version": "1.5.0",
     "state": {
      "_dom_classes": [],
      "_model_module": "@jupyter-widgets/controls",
      "_model_module_version": "1.5.0",
      "_model_name": "HTMLModel",
      "_view_count": null,
      "_view_module": "@jupyter-widgets/controls",
      "_view_module_version": "1.5.0",
      "_view_name": "HTMLView",
      "description": "",
      "description_tooltip": null,
      "layout": "IPY_MODEL_08513e3dabef4e7e844ee4af2fbcaef3",
      "placeholder": "​",
      "style": "IPY_MODEL_c4eef4eaf5f84e9785a93f5751434cf0",
      "value": " 232k/232k [00:00&lt;00:00, 5.18MB/s]"
     }
    },
    "41faf26a3a644d1983ad4a53347e8804": {
     "model_module": "@jupyter-widgets/base",
     "model_name": "LayoutModel",
     "model_module_version": "1.2.0",
     "state": {
      "_model_module": "@jupyter-widgets/base",
      "_model_module_version": "1.2.0",
      "_model_name": "LayoutModel",
      "_view_count": null,
      "_view_module": "@jupyter-widgets/base",
      "_view_module_version": "1.2.0",
      "_view_name": "LayoutView",
      "align_content": null,
      "align_items": null,
      "align_self": null,
      "border": null,
      "bottom": null,
      "display": null,
      "flex": null,
      "flex_flow": null,
      "grid_area": null,
      "grid_auto_columns": null,
      "grid_auto_flow": null,
      "grid_auto_rows": null,
      "grid_column": null,
      "grid_gap": null,
      "grid_row": null,
      "grid_template_areas": null,
      "grid_template_columns": null,
      "grid_template_rows": null,
      "height": null,
      "justify_content": null,
      "justify_items": null,
      "left": null,
      "margin": null,
      "max_height": null,
      "max_width": null,
      "min_height": null,
      "min_width": null,
      "object_fit": null,
      "object_position": null,
      "order": null,
      "overflow": null,
      "overflow_x": null,
      "overflow_y": null,
      "padding": null,
      "right": null,
      "top": null,
      "visibility": null,
      "width": null
     }
    },
    "3e117f0c2fd24fe49dd4711d7f5ceb3d": {
     "model_module": "@jupyter-widgets/base",
     "model_name": "LayoutModel",
     "model_module_version": "1.2.0",
     "state": {
      "_model_module": "@jupyter-widgets/base",
      "_model_module_version": "1.2.0",
      "_model_name": "LayoutModel",
      "_view_count": null,
      "_view_module": "@jupyter-widgets/base",
      "_view_module_version": "1.2.0",
      "_view_name": "LayoutView",
      "align_content": null,
      "align_items": null,
      "align_self": null,
      "border": null,
      "bottom": null,
      "display": null,
      "flex": null,
      "flex_flow": null,
      "grid_area": null,
      "grid_auto_columns": null,
      "grid_auto_flow": null,
      "grid_auto_rows": null,
      "grid_column": null,
      "grid_gap": null,
      "grid_row": null,
      "grid_template_areas": null,
      "grid_template_columns": null,
      "grid_template_rows": null,
      "height": null,
      "justify_content": null,
      "justify_items": null,
      "left": null,
      "margin": null,
      "max_height": null,
      "max_width": null,
      "min_height": null,
      "min_width": null,
      "object_fit": null,
      "object_position": null,
      "order": null,
      "overflow": null,
      "overflow_x": null,
      "overflow_y": null,
      "padding": null,
      "right": null,
      "top": null,
      "visibility": null,
      "width": null
     }
    },
    "75ed99808f2b47dea006a25171d1ba92": {
     "model_module": "@jupyter-widgets/controls",
     "model_name": "DescriptionStyleModel",
     "model_module_version": "1.5.0",
     "state": {
      "_model_module": "@jupyter-widgets/controls",
      "_model_module_version": "1.5.0",
      "_model_name": "DescriptionStyleModel",
      "_view_count": null,
      "_view_module": "@jupyter-widgets/base",
      "_view_module_version": "1.2.0",
      "_view_name": "StyleView",
      "description_width": ""
     }
    },
    "68e8858e969a4835a0cb7c9b0da6a962": {
     "model_module": "@jupyter-widgets/base",
     "model_name": "LayoutModel",
     "model_module_version": "1.2.0",
     "state": {
      "_model_module": "@jupyter-widgets/base",
      "_model_module_version": "1.2.0",
      "_model_name": "LayoutModel",
      "_view_count": null,
      "_view_module": "@jupyter-widgets/base",
      "_view_module_version": "1.2.0",
      "_view_name": "LayoutView",
      "align_content": null,
      "align_items": null,
      "align_self": null,
      "border": null,
      "bottom": null,
      "display": null,
      "flex": null,
      "flex_flow": null,
      "grid_area": null,
      "grid_auto_columns": null,
      "grid_auto_flow": null,
      "grid_auto_rows": null,
      "grid_column": null,
      "grid_gap": null,
      "grid_row": null,
      "grid_template_areas": null,
      "grid_template_columns": null,
      "grid_template_rows": null,
      "height": null,
      "justify_content": null,
      "justify_items": null,
      "left": null,
      "margin": null,
      "max_height": null,
      "max_width": null,
      "min_height": null,
      "min_width": null,
      "object_fit": null,
      "object_position": null,
      "order": null,
      "overflow": null,
      "overflow_x": null,
      "overflow_y": null,
      "padding": null,
      "right": null,
      "top": null,
      "visibility": null,
      "width": null
     }
    },
    "025ebaec561c46f09d7678135c4ef32f": {
     "model_module": "@jupyter-widgets/controls",
     "model_name": "ProgressStyleModel",
     "model_module_version": "1.5.0",
     "state": {
      "_model_module": "@jupyter-widgets/controls",
      "_model_module_version": "1.5.0",
      "_model_name": "ProgressStyleModel",
      "_view_count": null,
      "_view_module": "@jupyter-widgets/base",
      "_view_module_version": "1.2.0",
      "_view_name": "StyleView",
      "bar_color": null,
      "description_width": ""
     }
    },
    "08513e3dabef4e7e844ee4af2fbcaef3": {
     "model_module": "@jupyter-widgets/base",
     "model_name": "LayoutModel",
     "model_module_version": "1.2.0",
     "state": {
      "_model_module": "@jupyter-widgets/base",
      "_model_module_version": "1.2.0",
      "_model_name": "LayoutModel",
      "_view_count": null,
      "_view_module": "@jupyter-widgets/base",
      "_view_module_version": "1.2.0",
      "_view_name": "LayoutView",
      "align_content": null,
      "align_items": null,
      "align_self": null,
      "border": null,
      "bottom": null,
      "display": null,
      "flex": null,
      "flex_flow": null,
      "grid_area": null,
      "grid_auto_columns": null,
      "grid_auto_flow": null,
      "grid_auto_rows": null,
      "grid_column": null,
      "grid_gap": null,
      "grid_row": null,
      "grid_template_areas": null,
      "grid_template_columns": null,
      "grid_template_rows": null,
      "height": null,
      "justify_content": null,
      "justify_items": null,
      "left": null,
      "margin": null,
      "max_height": null,
      "max_width": null,
      "min_height": null,
      "min_width": null,
      "object_fit": null,
      "object_position": null,
      "order": null,
      "overflow": null,
      "overflow_x": null,
      "overflow_y": null,
      "padding": null,
      "right": null,
      "top": null,
      "visibility": null,
      "width": null
     }
    },
    "c4eef4eaf5f84e9785a93f5751434cf0": {
     "model_module": "@jupyter-widgets/controls",
     "model_name": "DescriptionStyleModel",
     "model_module_version": "1.5.0",
     "state": {
      "_model_module": "@jupyter-widgets/controls",
      "_model_module_version": "1.5.0",
      "_model_name": "DescriptionStyleModel",
      "_view_count": null,
      "_view_module": "@jupyter-widgets/base",
      "_view_module_version": "1.2.0",
      "_view_name": "StyleView",
      "description_width": ""
     }
    },
    "f0e0dce25f0342b4a3497a4de3642830": {
     "model_module": "@jupyter-widgets/controls",
     "model_name": "HBoxModel",
     "model_module_version": "1.5.0",
     "state": {
      "_dom_classes": [],
      "_model_module": "@jupyter-widgets/controls",
      "_model_module_version": "1.5.0",
      "_model_name": "HBoxModel",
      "_view_count": null,
      "_view_module": "@jupyter-widgets/controls",
      "_view_module_version": "1.5.0",
      "_view_name": "HBoxView",
      "box_style": "",
      "children": [
       "IPY_MODEL_a16007ba9cfa494182046d793665a167",
       "IPY_MODEL_97d580e40efc4972b9a78476de5d5c1e",
       "IPY_MODEL_c00f6ad1f81c49149d706a3834733f19"
      ],
      "layout": "IPY_MODEL_365b29e4055d47338c0cb9bb3b6a29d6"
     }
    },
    "a16007ba9cfa494182046d793665a167": {
     "model_module": "@jupyter-widgets/controls",
     "model_name": "HTMLModel",
     "model_module_version": "1.5.0",
     "state": {
      "_dom_classes": [],
      "_model_module": "@jupyter-widgets/controls",
      "_model_module_version": "1.5.0",
      "_model_name": "HTMLModel",
      "_view_count": null,
      "_view_module": "@jupyter-widgets/controls",
      "_view_module_version": "1.5.0",
      "_view_name": "HTMLView",
      "description": "",
      "description_tooltip": null,
      "layout": "IPY_MODEL_580152225131409a9672dddbf68e0676",
      "placeholder": "​",
      "style": "IPY_MODEL_9bbbe88fd40c4dfe9d7983f0485118c8",
      "value": "tokenizer.json: 100%"
     }
    },
    "97d580e40efc4972b9a78476de5d5c1e": {
     "model_module": "@jupyter-widgets/controls",
     "model_name": "FloatProgressModel",
     "model_module_version": "1.5.0",
     "state": {
      "_dom_classes": [],
      "_model_module": "@jupyter-widgets/controls",
      "_model_module_version": "1.5.0",
      "_model_name": "FloatProgressModel",
      "_view_count": null,
      "_view_module": "@jupyter-widgets/controls",
      "_view_module_version": "1.5.0",
      "_view_name": "ProgressView",
      "bar_style": "success",
      "description": "",
      "description_tooltip": null,
      "layout": "IPY_MODEL_27896585024c4f2a81e7dfb6daea2005",
      "max": 466062,
      "min": 0,
      "orientation": "horizontal",
      "style": "IPY_MODEL_1a2f71402b334d8abf278d7f3142c798",
      "value": 466062
     }
    },
    "c00f6ad1f81c49149d706a3834733f19": {
     "model_module": "@jupyter-widgets/controls",
     "model_name": "HTMLModel",
     "model_module_version": "1.5.0",
     "state": {
      "_dom_classes": [],
      "_model_module": "@jupyter-widgets/controls",
      "_model_module_version": "1.5.0",
      "_model_name": "HTMLModel",
      "_view_count": null,
      "_view_module": "@jupyter-widgets/controls",
      "_view_module_version": "1.5.0",
      "_view_name": "HTMLView",
      "description": "",
      "description_tooltip": null,
      "layout": "IPY_MODEL_7a9c4c7062a74179aa3eb3d17acc587b",
      "placeholder": "​",
      "style": "IPY_MODEL_891c46428b744b48bdf03c27610d8fe5",
      "value": " 466k/466k [00:00&lt;00:00, 11.0MB/s]"
     }
    },
    "365b29e4055d47338c0cb9bb3b6a29d6": {
     "model_module": "@jupyter-widgets/base",
     "model_name": "LayoutModel",
     "model_module_version": "1.2.0",
     "state": {
      "_model_module": "@jupyter-widgets/base",
      "_model_module_version": "1.2.0",
      "_model_name": "LayoutModel",
      "_view_count": null,
      "_view_module": "@jupyter-widgets/base",
      "_view_module_version": "1.2.0",
      "_view_name": "LayoutView",
      "align_content": null,
      "align_items": null,
      "align_self": null,
      "border": null,
      "bottom": null,
      "display": null,
      "flex": null,
      "flex_flow": null,
      "grid_area": null,
      "grid_auto_columns": null,
      "grid_auto_flow": null,
      "grid_auto_rows": null,
      "grid_column": null,
      "grid_gap": null,
      "grid_row": null,
      "grid_template_areas": null,
      "grid_template_columns": null,
      "grid_template_rows": null,
      "height": null,
      "justify_content": null,
      "justify_items": null,
      "left": null,
      "margin": null,
      "max_height": null,
      "max_width": null,
      "min_height": null,
      "min_width": null,
      "object_fit": null,
      "object_position": null,
      "order": null,
      "overflow": null,
      "overflow_x": null,
      "overflow_y": null,
      "padding": null,
      "right": null,
      "top": null,
      "visibility": null,
      "width": null
     }
    },
    "580152225131409a9672dddbf68e0676": {
     "model_module": "@jupyter-widgets/base",
     "model_name": "LayoutModel",
     "model_module_version": "1.2.0",
     "state": {
      "_model_module": "@jupyter-widgets/base",
      "_model_module_version": "1.2.0",
      "_model_name": "LayoutModel",
      "_view_count": null,
      "_view_module": "@jupyter-widgets/base",
      "_view_module_version": "1.2.0",
      "_view_name": "LayoutView",
      "align_content": null,
      "align_items": null,
      "align_self": null,
      "border": null,
      "bottom": null,
      "display": null,
      "flex": null,
      "flex_flow": null,
      "grid_area": null,
      "grid_auto_columns": null,
      "grid_auto_flow": null,
      "grid_auto_rows": null,
      "grid_column": null,
      "grid_gap": null,
      "grid_row": null,
      "grid_template_areas": null,
      "grid_template_columns": null,
      "grid_template_rows": null,
      "height": null,
      "justify_content": null,
      "justify_items": null,
      "left": null,
      "margin": null,
      "max_height": null,
      "max_width": null,
      "min_height": null,
      "min_width": null,
      "object_fit": null,
      "object_position": null,
      "order": null,
      "overflow": null,
      "overflow_x": null,
      "overflow_y": null,
      "padding": null,
      "right": null,
      "top": null,
      "visibility": null,
      "width": null
     }
    },
    "9bbbe88fd40c4dfe9d7983f0485118c8": {
     "model_module": "@jupyter-widgets/controls",
     "model_name": "DescriptionStyleModel",
     "model_module_version": "1.5.0",
     "state": {
      "_model_module": "@jupyter-widgets/controls",
      "_model_module_version": "1.5.0",
      "_model_name": "DescriptionStyleModel",
      "_view_count": null,
      "_view_module": "@jupyter-widgets/base",
      "_view_module_version": "1.2.0",
      "_view_name": "StyleView",
      "description_width": ""
     }
    },
    "27896585024c4f2a81e7dfb6daea2005": {
     "model_module": "@jupyter-widgets/base",
     "model_name": "LayoutModel",
     "model_module_version": "1.2.0",
     "state": {
      "_model_module": "@jupyter-widgets/base",
      "_model_module_version": "1.2.0",
      "_model_name": "LayoutModel",
      "_view_count": null,
      "_view_module": "@jupyter-widgets/base",
      "_view_module_version": "1.2.0",
      "_view_name": "LayoutView",
      "align_content": null,
      "align_items": null,
      "align_self": null,
      "border": null,
      "bottom": null,
      "display": null,
      "flex": null,
      "flex_flow": null,
      "grid_area": null,
      "grid_auto_columns": null,
      "grid_auto_flow": null,
      "grid_auto_rows": null,
      "grid_column": null,
      "grid_gap": null,
      "grid_row": null,
      "grid_template_areas": null,
      "grid_template_columns": null,
      "grid_template_rows": null,
      "height": null,
      "justify_content": null,
      "justify_items": null,
      "left": null,
      "margin": null,
      "max_height": null,
      "max_width": null,
      "min_height": null,
      "min_width": null,
      "object_fit": null,
      "object_position": null,
      "order": null,
      "overflow": null,
      "overflow_x": null,
      "overflow_y": null,
      "padding": null,
      "right": null,
      "top": null,
      "visibility": null,
      "width": null
     }
    },
    "1a2f71402b334d8abf278d7f3142c798": {
     "model_module": "@jupyter-widgets/controls",
     "model_name": "ProgressStyleModel",
     "model_module_version": "1.5.0",
     "state": {
      "_model_module": "@jupyter-widgets/controls",
      "_model_module_version": "1.5.0",
      "_model_name": "ProgressStyleModel",
      "_view_count": null,
      "_view_module": "@jupyter-widgets/base",
      "_view_module_version": "1.2.0",
      "_view_name": "StyleView",
      "bar_color": null,
      "description_width": ""
     }
    },
    "7a9c4c7062a74179aa3eb3d17acc587b": {
     "model_module": "@jupyter-widgets/base",
     "model_name": "LayoutModel",
     "model_module_version": "1.2.0",
     "state": {
      "_model_module": "@jupyter-widgets/base",
      "_model_module_version": "1.2.0",
      "_model_name": "LayoutModel",
      "_view_count": null,
      "_view_module": "@jupyter-widgets/base",
      "_view_module_version": "1.2.0",
      "_view_name": "LayoutView",
      "align_content": null,
      "align_items": null,
      "align_self": null,
      "border": null,
      "bottom": null,
      "display": null,
      "flex": null,
      "flex_flow": null,
      "grid_area": null,
      "grid_auto_columns": null,
      "grid_auto_flow": null,
      "grid_auto_rows": null,
      "grid_column": null,
      "grid_gap": null,
      "grid_row": null,
      "grid_template_areas": null,
      "grid_template_columns": null,
      "grid_template_rows": null,
      "height": null,
      "justify_content": null,
      "justify_items": null,
      "left": null,
      "margin": null,
      "max_height": null,
      "max_width": null,
      "min_height": null,
      "min_width": null,
      "object_fit": null,
      "object_position": null,
      "order": null,
      "overflow": null,
      "overflow_x": null,
      "overflow_y": null,
      "padding": null,
      "right": null,
      "top": null,
      "visibility": null,
      "width": null
     }
    },
    "891c46428b744b48bdf03c27610d8fe5": {
     "model_module": "@jupyter-widgets/controls",
     "model_name": "DescriptionStyleModel",
     "model_module_version": "1.5.0",
     "state": {
      "_model_module": "@jupyter-widgets/controls",
      "_model_module_version": "1.5.0",
      "_model_name": "DescriptionStyleModel",
      "_view_count": null,
      "_view_module": "@jupyter-widgets/base",
      "_view_module_version": "1.2.0",
      "_view_name": "StyleView",
      "description_width": ""
     }
    },
    "75f596d0f781412ba04d79c557c6144a": {
     "model_module": "@jupyter-widgets/controls",
     "model_name": "HBoxModel",
     "model_module_version": "1.5.0",
     "state": {
      "_dom_classes": [],
      "_model_module": "@jupyter-widgets/controls",
      "_model_module_version": "1.5.0",
      "_model_name": "HBoxModel",
      "_view_count": null,
      "_view_module": "@jupyter-widgets/controls",
      "_view_module_version": "1.5.0",
      "_view_name": "HBoxView",
      "box_style": "",
      "children": [
       "IPY_MODEL_ba8aa2f033ff443eb41d38ad4ac4cd04",
       "IPY_MODEL_a73c172a2e10454da8c382dd241a1499",
       "IPY_MODEL_9c9d7d61aa7344ed9558750adeb9690e"
      ],
      "layout": "IPY_MODEL_e7a005a6919448bc8d11f9255cfe20fe"
     }
    },
    "ba8aa2f033ff443eb41d38ad4ac4cd04": {
     "model_module": "@jupyter-widgets/controls",
     "model_name": "HTMLModel",
     "model_module_version": "1.5.0",
     "state": {
      "_dom_classes": [],
      "_model_module": "@jupyter-widgets/controls",
      "_model_module_version": "1.5.0",
      "_model_name": "HTMLModel",
      "_view_count": null,
      "_view_module": "@jupyter-widgets/controls",
      "_view_module_version": "1.5.0",
      "_view_name": "HTMLView",
      "description": "",
      "description_tooltip": null,
      "layout": "IPY_MODEL_475397a961924291a6cdc77736fa9eff",
      "placeholder": "​",
      "style": "IPY_MODEL_d32f978e6bae464e913a1c2948583959",
      "value": "model.safetensors: 100%"
     }
    },
    "a73c172a2e10454da8c382dd241a1499": {
     "model_module": "@jupyter-widgets/controls",
     "model_name": "FloatProgressModel",
     "model_module_version": "1.5.0",
     "state": {
      "_dom_classes": [],
      "_model_module": "@jupyter-widgets/controls",
      "_model_module_version": "1.5.0",
      "_model_name": "FloatProgressModel",
      "_view_count": null,
      "_view_module": "@jupyter-widgets/controls",
      "_view_module_version": "1.5.0",
      "_view_name": "ProgressView",
      "bar_style": "success",
      "description": "",
      "description_tooltip": null,
      "layout": "IPY_MODEL_240623ed5dbd4cfeb00eb29957f17e27",
      "max": 440449768,
      "min": 0,
      "orientation": "horizontal",
      "style": "IPY_MODEL_4e55bb44264f4aa9a777ce216e01c830",
      "value": 440449768
     }
    },
    "9c9d7d61aa7344ed9558750adeb9690e": {
     "model_module": "@jupyter-widgets/controls",
     "model_name": "HTMLModel",
     "model_module_version": "1.5.0",
     "state": {
      "_dom_classes": [],
      "_model_module": "@jupyter-widgets/controls",
      "_model_module_version": "1.5.0",
      "_model_name": "HTMLModel",
      "_view_count": null,
      "_view_module": "@jupyter-widgets/controls",
      "_view_module_version": "1.5.0",
      "_view_name": "HTMLView",
      "description": "",
      "description_tooltip": null,
      "layout": "IPY_MODEL_d1d8d5858415471abb8e63f274444cc6",
      "placeholder": "​",
      "style": "IPY_MODEL_46e76d3a993949bcb746c31fb5d58a4b",
      "value": " 440M/440M [00:05&lt;00:00, 92.7MB/s]"
     }
    },
    "e7a005a6919448bc8d11f9255cfe20fe": {
     "model_module": "@jupyter-widgets/base",
     "model_name": "LayoutModel",
     "model_module_version": "1.2.0",
     "state": {
      "_model_module": "@jupyter-widgets/base",
      "_model_module_version": "1.2.0",
      "_model_name": "LayoutModel",
      "_view_count": null,
      "_view_module": "@jupyter-widgets/base",
      "_view_module_version": "1.2.0",
      "_view_name": "LayoutView",
      "align_content": null,
      "align_items": null,
      "align_self": null,
      "border": null,
      "bottom": null,
      "display": null,
      "flex": null,
      "flex_flow": null,
      "grid_area": null,
      "grid_auto_columns": null,
      "grid_auto_flow": null,
      "grid_auto_rows": null,
      "grid_column": null,
      "grid_gap": null,
      "grid_row": null,
      "grid_template_areas": null,
      "grid_template_columns": null,
      "grid_template_rows": null,
      "height": null,
      "justify_content": null,
      "justify_items": null,
      "left": null,
      "margin": null,
      "max_height": null,
      "max_width": null,
      "min_height": null,
      "min_width": null,
      "object_fit": null,
      "object_position": null,
      "order": null,
      "overflow": null,
      "overflow_x": null,
      "overflow_y": null,
      "padding": null,
      "right": null,
      "top": null,
      "visibility": null,
      "width": null
     }
    },
    "475397a961924291a6cdc77736fa9eff": {
     "model_module": "@jupyter-widgets/base",
     "model_name": "LayoutModel",
     "model_module_version": "1.2.0",
     "state": {
      "_model_module": "@jupyter-widgets/base",
      "_model_module_version": "1.2.0",
      "_model_name": "LayoutModel",
      "_view_count": null,
      "_view_module": "@jupyter-widgets/base",
      "_view_module_version": "1.2.0",
      "_view_name": "LayoutView",
      "align_content": null,
      "align_items": null,
      "align_self": null,
      "border": null,
      "bottom": null,
      "display": null,
      "flex": null,
      "flex_flow": null,
      "grid_area": null,
      "grid_auto_columns": null,
      "grid_auto_flow": null,
      "grid_auto_rows": null,
      "grid_column": null,
      "grid_gap": null,
      "grid_row": null,
      "grid_template_areas": null,
      "grid_template_columns": null,
      "grid_template_rows": null,
      "height": null,
      "justify_content": null,
      "justify_items": null,
      "left": null,
      "margin": null,
      "max_height": null,
      "max_width": null,
      "min_height": null,
      "min_width": null,
      "object_fit": null,
      "object_position": null,
      "order": null,
      "overflow": null,
      "overflow_x": null,
      "overflow_y": null,
      "padding": null,
      "right": null,
      "top": null,
      "visibility": null,
      "width": null
     }
    },
    "d32f978e6bae464e913a1c2948583959": {
     "model_module": "@jupyter-widgets/controls",
     "model_name": "DescriptionStyleModel",
     "model_module_version": "1.5.0",
     "state": {
      "_model_module": "@jupyter-widgets/controls",
      "_model_module_version": "1.5.0",
      "_model_name": "DescriptionStyleModel",
      "_view_count": null,
      "_view_module": "@jupyter-widgets/base",
      "_view_module_version": "1.2.0",
      "_view_name": "StyleView",
      "description_width": ""
     }
    },
    "240623ed5dbd4cfeb00eb29957f17e27": {
     "model_module": "@jupyter-widgets/base",
     "model_name": "LayoutModel",
     "model_module_version": "1.2.0",
     "state": {
      "_model_module": "@jupyter-widgets/base",
      "_model_module_version": "1.2.0",
      "_model_name": "LayoutModel",
      "_view_count": null,
      "_view_module": "@jupyter-widgets/base",
      "_view_module_version": "1.2.0",
      "_view_name": "LayoutView",
      "align_content": null,
      "align_items": null,
      "align_self": null,
      "border": null,
      "bottom": null,
      "display": null,
      "flex": null,
      "flex_flow": null,
      "grid_area": null,
      "grid_auto_columns": null,
      "grid_auto_flow": null,
      "grid_auto_rows": null,
      "grid_column": null,
      "grid_gap": null,
      "grid_row": null,
      "grid_template_areas": null,
      "grid_template_columns": null,
      "grid_template_rows": null,
      "height": null,
      "justify_content": null,
      "justify_items": null,
      "left": null,
      "margin": null,
      "max_height": null,
      "max_width": null,
      "min_height": null,
      "min_width": null,
      "object_fit": null,
      "object_position": null,
      "order": null,
      "overflow": null,
      "overflow_x": null,
      "overflow_y": null,
      "padding": null,
      "right": null,
      "top": null,
      "visibility": null,
      "width": null
     }
    },
    "4e55bb44264f4aa9a777ce216e01c830": {
     "model_module": "@jupyter-widgets/controls",
     "model_name": "ProgressStyleModel",
     "model_module_version": "1.5.0",
     "state": {
      "_model_module": "@jupyter-widgets/controls",
      "_model_module_version": "1.5.0",
      "_model_name": "ProgressStyleModel",
      "_view_count": null,
      "_view_module": "@jupyter-widgets/base",
      "_view_module_version": "1.2.0",
      "_view_name": "StyleView",
      "bar_color": null,
      "description_width": ""
     }
    },
    "d1d8d5858415471abb8e63f274444cc6": {
     "model_module": "@jupyter-widgets/base",
     "model_name": "LayoutModel",
     "model_module_version": "1.2.0",
     "state": {
      "_model_module": "@jupyter-widgets/base",
      "_model_module_version": "1.2.0",
      "_model_name": "LayoutModel",
      "_view_count": null,
      "_view_module": "@jupyter-widgets/base",
      "_view_module_version": "1.2.0",
      "_view_name": "LayoutView",
      "align_content": null,
      "align_items": null,
      "align_self": null,
      "border": null,
      "bottom": null,
      "display": null,
      "flex": null,
      "flex_flow": null,
      "grid_area": null,
      "grid_auto_columns": null,
      "grid_auto_flow": null,
      "grid_auto_rows": null,
      "grid_column": null,
      "grid_gap": null,
      "grid_row": null,
      "grid_template_areas": null,
      "grid_template_columns": null,
      "grid_template_rows": null,
      "height": null,
      "justify_content": null,
      "justify_items": null,
      "left": null,
      "margin": null,
      "max_height": null,
      "max_width": null,
      "min_height": null,
      "min_width": null,
      "object_fit": null,
      "object_position": null,
      "order": null,
      "overflow": null,
      "overflow_x": null,
      "overflow_y": null,
      "padding": null,
      "right": null,
      "top": null,
      "visibility": null,
      "width": null
     }
    },
    "46e76d3a993949bcb746c31fb5d58a4b": {
     "model_module": "@jupyter-widgets/controls",
     "model_name": "DescriptionStyleModel",
     "model_module_version": "1.5.0",
     "state": {
      "_model_module": "@jupyter-widgets/controls",
      "_model_module_version": "1.5.0",
      "_model_name": "DescriptionStyleModel",
      "_view_count": null,
      "_view_module": "@jupyter-widgets/base",
      "_view_module_version": "1.2.0",
      "_view_name": "StyleView",
      "description_width": ""
     }
    }
   }
  },
  "accelerator": "GPU"
 },
 "nbformat": 4,
 "nbformat_minor": 5
}
